{
 "cells": [
  {
   "cell_type": "markdown",
   "metadata": {},
   "source": [
    "\n",
    "# Introduction to Numpy\n",
    "    \n",
    "<img src='images/Numpy.jpg' alt = \"Numpy\" style=\"width:600; height:300\"/>    \n"
   ]
  },
  {
   "cell_type": "markdown",
   "metadata": {},
   "source": [
    "## Objectives\n",
    "\n",
    "In this section of the course, students will learn how to import Numpy library, create both one and two dimensional array and do various operations with it. At the end of the Numpy section, students will be able to work and maniputate n dimensional array and be able to work with linear algebra and solve some simple system of linear equations.\n",
    "\n",
    "## Table of content\n",
    "\n",
    "* Introduction to Numpy\n",
    "* Installation instruction guide\n",
    "* How to import Numpy library\n",
    "* Python Lists and NumPy Arrays\n",
    "* Array Slicing\n",
    "* Numpy Attributes\n",
    "* Other ways to create arrays\n",
    "* Multi dimensional array\n",
    "* Systems of Linear Equations"
   ]
  },
  {
   "cell_type": "markdown",
   "metadata": {},
   "source": [
    "# Introduction to Numpy\n",
    "NumPy is a Python package/librarry that stands for `Numerical Python`. It is the core library for scientific computing, which contains a powerful n-dimensional array object. It is also a linear algebra for python and almost all of the libraries in the Python ecosystem rely on it as one of their main building blocks. It is incredibly fast, as it has bindings to C libraries."
   ]
  },
  {
   "cell_type": "markdown",
   "metadata": {},
   "source": [
    "## **Prerequisites**\n",
    "\n",
    "A basic understanding of Python programming in CS14 (Programming in Python) is required. "
   ]
  },
  {
   "cell_type": "markdown",
   "metadata": {},
   "source": [
    "## **Installation Instruction guide**\n",
    "\n",
    "If you installed the [Anaconda distribution](https://www.anaconda.com/products/individual) of Python - it includes Python, NumPy, and other commonly used packages for scientific computing and data science.Therefore, no further installation steps are necessary. We recommend you use the [Anaconda distribution](https://www.anaconda.com/products/individual) of Python as you begin your data science journey."
   ]
  },
  {
   "cell_type": "markdown",
   "metadata": {},
   "source": [
    "If you use a version of Python from python.org or a version of Python that came with your operating system, the **Anaconda Prompt** and **conda** or **pip** can be used to install NumPy.\n",
    "\n",
    "### **Install NumPy with the Anaconda Prompt**\n",
    "\n",
    "To install NumPy, open the Anaconda Prompt and type:"
   ]
  },
  {
   "cell_type": "markdown",
   "metadata": {},
   "source": [
    "`conda install numpy`"
   ]
  },
  {
   "cell_type": "markdown",
   "metadata": {},
   "source": [
    "Type y for yes when prompted."
   ]
  },
  {
   "cell_type": "markdown",
   "metadata": {},
   "source": [
    "### **Install NumPy with pip**\n",
    "\n",
    "To install NumPy with pip, bring up a terminal window and type:\n",
    "\n",
    "\n",
    "$ pip install numpy\n",
    "\n",
    "This command installs NumPy in the current working Python environment."
   ]
  },
  {
   "cell_type": "markdown",
   "metadata": {},
   "source": [
    "## Importing the NumPy module\n",
    "There are several ways to import NumPy. The standard approach is to use a simple import statement:\n"
   ]
  },
  {
   "cell_type": "code",
   "execution_count": 1,
   "metadata": {},
   "outputs": [],
   "source": [
    "import numpy"
   ]
  },
  {
   "cell_type": "markdown",
   "metadata": {},
   "source": [
    "However, for large amounts of calls to NumPy functions, it can become tedious to write\n",
    "numpy.X over and over again. Instead, it is common to import under the briefer name np:"
   ]
  },
  {
   "cell_type": "markdown",
   "metadata": {},
   "source": [
    "Numpy has many built-in functions and to use each of the functions, we will need to call them from numpy. For example\n",
    "numpy.array, numpy.mean, numpy.log10, etc. Here, we see that we are calling numpy.something over and over again. Instead, it is common in Python to use alias. For example:"
   ]
  },
  {
   "cell_type": "code",
   "execution_count": 2,
   "metadata": {},
   "outputs": [],
   "source": [
    "import numpy as np"
   ]
  },
  {
   "cell_type": "markdown",
   "metadata": {},
   "source": [
    "## Python Lists and NumPy Arrays\n",
    "\n",
    "This section introduces NumPy arrays then explains the difference between Python lists and NumPy arrays. NumPy is used to construct homogeneous arrays and perform mathematical operations on arrays. A NumPy array is different from a Python list. The data types stored in a Python list can all be different.\n"
   ]
  },
  {
   "cell_type": "code",
   "execution_count": 3,
   "metadata": {},
   "outputs": [
    {
     "data": {
      "text/plain": [
       "list"
      ]
     },
     "execution_count": 3,
     "metadata": {},
     "output_type": "execute_result"
    }
   ],
   "source": [
    "python_list = [\"Ethiopia\", 5, 17.9, True]\n",
    "\n",
    "type(python_list)"
   ]
  },
  {
   "cell_type": "markdown",
   "metadata": {},
   "source": [
    "The Python list above contains four different data types:\n",
    "- \"Ethiopia\" is a string\n",
    "- 5 is an integer\n",
    "- 17.9 is a float, \n",
    "- True is a boolean."
   ]
  },
  {
   "cell_type": "markdown",
   "metadata": {},
   "source": [
    "## What is Python Numpy Array?\n",
    "NumPy arrays are a bit like Python lists, but still very much different at the same time. The simplest way to create an array in Numpy is to use Python List."
   ]
  },
  {
   "cell_type": "code",
   "execution_count": 1,
   "metadata": {},
   "outputs": [],
   "source": [
    "myPythonList = [1, 4, 7, 2, 12, 17]"
   ]
  },
  {
   "cell_type": "code",
   "execution_count": 2,
   "metadata": {},
   "outputs": [],
   "source": [
    "name = [\"Joke\", \"Jamal\", \"Sadiq\"]"
   ]
  },
  {
   "cell_type": "code",
   "execution_count": 3,
   "metadata": {},
   "outputs": [
    {
     "data": {
      "text/plain": [
       "['Joke', 'Jamal', 'Sadiq']"
      ]
     },
     "execution_count": 3,
     "metadata": {},
     "output_type": "execute_result"
    }
   ],
   "source": [
    "name"
   ]
  },
  {
   "cell_type": "markdown",
   "metadata": {},
   "source": [
    "We can convert python list to a numpy array by using the object np.array."
   ]
  },
  {
   "cell_type": "code",
   "execution_count": 5,
   "metadata": {},
   "outputs": [
    {
     "data": {
      "text/plain": [
       "numpy.ndarray"
      ]
     },
     "execution_count": 5,
     "metadata": {},
     "output_type": "execute_result"
    }
   ],
   "source": [
    "numpy_array_from_list = np.array(myPythonList)\n",
    "\n",
    "type(numpy_array_from_list)"
   ]
  },
  {
   "cell_type": "markdown",
   "metadata": {},
   "source": [
    "**To display the output**:"
   ]
  },
  {
   "cell_type": "code",
   "execution_count": 6,
   "metadata": {},
   "outputs": [
    {
     "data": {
      "text/plain": [
       "array([ 1,  4,  7,  2, 12, 17])"
      ]
     },
     "execution_count": 6,
     "metadata": {},
     "output_type": "execute_result"
    }
   ],
   "source": [
    "numpy_array_from_list"
   ]
  },
  {
   "cell_type": "markdown",
   "metadata": {},
   "source": [
    "In practice, there is no need to declare a Python List. The operation can be combined."
   ]
  },
  {
   "cell_type": "code",
   "execution_count": 7,
   "metadata": {},
   "outputs": [
    {
     "data": {
      "text/plain": [
       "array([ 1,  9,  8,  3, 12])"
      ]
     },
     "execution_count": 7,
     "metadata": {},
     "output_type": "execute_result"
    }
   ],
   "source": [
    "new_array  = np.array([1, 9, 8, 3, 12])\n",
    "new_array"
   ]
  },
  {
   "cell_type": "markdown",
   "metadata": {},
   "source": [
    "## Mathematical operations on one dimensional array\n",
    "You can perform mathematical operations like additions, subtraction, division, and multiplication on an array. The syntax is the array name followed by the operation (+, -, *, /)."
   ]
  },
  {
   "cell_type": "markdown",
   "metadata": {},
   "source": [
    "## Example 1"
   ]
  },
  {
   "cell_type": "code",
   "execution_count": 8,
   "metadata": {},
   "outputs": [
    {
     "data": {
      "text/plain": [
       "array([ 3,  4,  5,  6,  7,  8,  9, 10, 11, 12])"
      ]
     },
     "execution_count": 8,
     "metadata": {},
     "output_type": "execute_result"
    }
   ],
   "source": [
    "a = np.array([1, 2, 3, 4, 5, 6, 7, 8, 9, 10])\n",
    "\n",
    "# Addition\n",
    "a + 2"
   ]
  },
  {
   "cell_type": "code",
   "execution_count": 9,
   "metadata": {},
   "outputs": [
    {
     "data": {
      "text/plain": [
       "array([-2, -1,  0,  1,  2,  3,  4,  5,  6,  7])"
      ]
     },
     "execution_count": 9,
     "metadata": {},
     "output_type": "execute_result"
    }
   ],
   "source": [
    "# Subtraction\n",
    "a - 3"
   ]
  },
  {
   "cell_type": "code",
   "execution_count": 10,
   "metadata": {},
   "outputs": [
    {
     "data": {
      "text/plain": [
       "array([ 2,  4,  6,  8, 10, 12, 14, 16, 18, 20])"
      ]
     },
     "execution_count": 10,
     "metadata": {},
     "output_type": "execute_result"
    }
   ],
   "source": [
    "# Multiplication\n",
    "a * 2"
   ]
  },
  {
   "cell_type": "code",
   "execution_count": 11,
   "metadata": {},
   "outputs": [
    {
     "data": {
      "text/plain": [
       "array([0.5, 1. , 1.5, 2. , 2.5, 3. , 3.5, 4. , 4.5, 5. ])"
      ]
     },
     "execution_count": 11,
     "metadata": {},
     "output_type": "execute_result"
    }
   ],
   "source": [
    "# Division\n",
    "a/2"
   ]
  },
  {
   "cell_type": "code",
   "execution_count": 12,
   "metadata": {},
   "outputs": [
    {
     "data": {
      "text/plain": [
       "array([   1,    8,   27,   64,  125,  216,  343,  512,  729, 1000],\n",
       "      dtype=int32)"
      ]
     },
     "execution_count": 12,
     "metadata": {},
     "output_type": "execute_result"
    }
   ],
   "source": [
    "# Exponentiation\n",
    "\n",
    "a**3"
   ]
  },
  {
   "cell_type": "markdown",
   "metadata": {},
   "source": [
    "## Example 2\n",
    "\n",
    "When standard mathematical operations are used with arrays, they are applied on an element-by-element basis. This means that the arrays should be the same size during addition,\n",
    "subtraction, etc."
   ]
  },
  {
   "cell_type": "code",
   "execution_count": 13,
   "metadata": {},
   "outputs": [],
   "source": [
    "a = np.array([5, 2, 7, 4, 12])\n",
    "\n",
    "b = np.array([3, 2, 4, 1, 6])"
   ]
  },
  {
   "cell_type": "code",
   "execution_count": 14,
   "metadata": {},
   "outputs": [
    {
     "name": "stdout",
     "output_type": "stream",
     "text": [
      "[ 8  4 11  5 18]\n"
     ]
    }
   ],
   "source": [
    "print(a + b)"
   ]
  },
  {
   "cell_type": "code",
   "execution_count": 15,
   "metadata": {},
   "outputs": [
    {
     "name": "stdout",
     "output_type": "stream",
     "text": [
      "[2 0 3 3 6]\n"
     ]
    }
   ],
   "source": [
    "print(a - b)"
   ]
  },
  {
   "cell_type": "code",
   "execution_count": 16,
   "metadata": {},
   "outputs": [
    {
     "name": "stdout",
     "output_type": "stream",
     "text": [
      "[15  4 28  4 72]\n"
     ]
    }
   ],
   "source": [
    "print(a * b)"
   ]
  },
  {
   "cell_type": "code",
   "execution_count": 17,
   "metadata": {},
   "outputs": [
    {
     "name": "stdout",
     "output_type": "stream",
     "text": [
      "[0.6        1.         0.57142857 0.25       0.5       ]\n"
     ]
    }
   ],
   "source": [
    "print(b / a)\n"
   ]
  },
  {
   "cell_type": "code",
   "execution_count": 18,
   "metadata": {},
   "outputs": [
    {
     "name": "stdout",
     "output_type": "stream",
     "text": [
      "[2 0 3 0 0]\n"
     ]
    }
   ],
   "source": [
    "print(a % b) # Remainder when you divide each of the elements in a by b"
   ]
  },
  {
   "cell_type": "code",
   "execution_count": 19,
   "metadata": {},
   "outputs": [
    {
     "data": {
      "text/plain": [
       "array([        243,           4,       16384,           1, -2118184960],\n",
       "      dtype=int32)"
      ]
     },
     "execution_count": 19,
     "metadata": {},
     "output_type": "execute_result"
    }
   ],
   "source": [
    "b**a"
   ]
  },
  {
   "cell_type": "code",
   "execution_count": 20,
   "metadata": {},
   "outputs": [
    {
     "data": {
      "text/plain": [
       "array([2.23606798, 1.41421356, 2.64575131, 2.        , 3.46410162])"
      ]
     },
     "execution_count": 20,
     "metadata": {},
     "output_type": "execute_result"
    }
   ],
   "source": [
    "np.sqrt(a) # square root of each of the elements in a"
   ]
  },
  {
   "cell_type": "markdown",
   "metadata": {},
   "source": [
    "# Class activity 1 (Peer to peer review activity)\n",
    "\n",
    "Convert the following Python lists to Numpy arrays:\n",
    "\n",
    "even_list = [2, 4, 6, 8, 10]\n",
    "\n",
    "odd_list = [1, 3, 5, 7, 9]\n",
    "\n",
    "and add the resulting arrays together and name it even_odd_array"
   ]
  },
  {
   "cell_type": "markdown",
   "metadata": {},
   "source": [
    "# One-dimensional Array Indexing\n",
    "\n",
    "Array elements are accessed, sliced, and manipulated just like lists. "
   ]
  },
  {
   "cell_type": "code",
   "execution_count": 21,
   "metadata": {},
   "outputs": [
    {
     "name": "stdout",
     "output_type": "stream",
     "text": [
      "[ 1  2 -1  4 -5  6  7  0  9 10]\n"
     ]
    }
   ],
   "source": [
    "a = np.array([1, 2, -1, 4, -5, 6, 7, 0, 9, 10])\n",
    "\n",
    "print(a)"
   ]
  },
  {
   "cell_type": "markdown",
   "metadata": {},
   "source": [
    "**Remember counting in Python starts at 0 and ends at n-1**.\n",
    "\n",
    "The index (or location) of each value in the array is shown below:"
   ]
  },
  {
   "cell_type": "raw",
   "metadata": {},
   "source": [
    "index: 0    1    2    3    4    5    6    7    8    9\n",
    "\n",
    "value: 1    2    -1   4    -5   6    7    0    9    10"
   ]
  },
  {
   "cell_type": "markdown",
   "metadata": {},
   "source": [
    "The value 1 has an index of 0. We could also say 1 is in location 0 of the array. The value 4 has an index of 3 and the value 8 has an index of 9. "
   ]
  },
  {
   "cell_type": "code",
   "execution_count": 22,
   "metadata": {},
   "outputs": [
    {
     "data": {
      "text/plain": [
       "1"
      ]
     },
     "execution_count": 22,
     "metadata": {},
     "output_type": "execute_result"
    }
   ],
   "source": [
    "a[0] # accessing the first element in array a"
   ]
  },
  {
   "cell_type": "code",
   "execution_count": 23,
   "metadata": {},
   "outputs": [
    {
     "data": {
      "text/plain": [
       "4"
      ]
     },
     "execution_count": 23,
     "metadata": {},
     "output_type": "execute_result"
    }
   ],
   "source": [
    "a[3] # accessing the third element in array a"
   ]
  },
  {
   "cell_type": "code",
   "execution_count": 24,
   "metadata": {},
   "outputs": [
    {
     "data": {
      "text/plain": [
       "array([ 1,  2,  5,  4, -5,  6,  7,  0,  9, 10])"
      ]
     },
     "execution_count": 24,
     "metadata": {},
     "output_type": "execute_result"
    }
   ],
   "source": [
    "a[2] = 5 # accessing the first element in array a and replacing the result with 5\n",
    "a"
   ]
  },
  {
   "cell_type": "markdown",
   "metadata": {},
   "source": [
    "# Class activity 2 (Peer to peer discusion)\n",
    "\n",
    "How will you access the $3^{rd}$ element in the \n",
    "\n",
    "`age_array = np.array([19, 17, 15, 13, 20, 11, 18, 10, 17])`"
   ]
  },
  {
   "cell_type": "markdown",
   "metadata": {},
   "source": [
    "# Array Slicing"
   ]
  },
  {
   "cell_type": "markdown",
   "metadata": {},
   "source": [
    "Values stored within an array can be accessed simultaneously with array slicing. To pull out a section or slice of an array, the colon operator : is used when calling the index. The general form is:\n",
    "\n",
    "`array [start : stop]`\n",
    "\n",
    "The index of the slice is specified in `[start : stop]`. Remember Python counting starts at $0$ and ends at $n-1$. The index `[0 : 2]` pulls the first two values out of an array. The index `[1 : 3]` pulls the second and third values out of an array."
   ]
  },
  {
   "cell_type": "markdown",
   "metadata": {},
   "source": [
    "# Example 1"
   ]
  },
  {
   "cell_type": "code",
   "execution_count": 25,
   "metadata": {},
   "outputs": [
    {
     "name": "stdout",
     "output_type": "stream",
     "text": [
      "[2 4 6 5 8 9]\n"
     ]
    }
   ],
   "source": [
    "a = np.array([2, 4, 6, 5, 8, 9])\n",
    "print(a)"
   ]
  },
  {
   "cell_type": "code",
   "execution_count": 26,
   "metadata": {},
   "outputs": [
    {
     "name": "stdout",
     "output_type": "stream",
     "text": [
      "[2 4]\n"
     ]
    }
   ],
   "source": [
    "b = a[0:2]\n",
    "print(b)"
   ]
  },
  {
   "cell_type": "markdown",
   "metadata": {},
   "source": [
    "## Example 2"
   ]
  },
  {
   "cell_type": "code",
   "execution_count": 27,
   "metadata": {},
   "outputs": [
    {
     "name": "stdout",
     "output_type": "stream",
     "text": [
      "[5 8 9 2 4 6 5]\n"
     ]
    }
   ],
   "source": [
    "x = np.array([5, 8, 9, 2, 4, 6, 5])\n",
    "print(x)"
   ]
  },
  {
   "cell_type": "code",
   "execution_count": 28,
   "metadata": {},
   "outputs": [
    {
     "name": "stdout",
     "output_type": "stream",
     "text": [
      "[8 9]\n"
     ]
    }
   ],
   "source": [
    "print(x[1:3])"
   ]
  },
  {
   "cell_type": "markdown",
   "metadata": {},
   "source": [
    "On either sides of the colon, a blank stands for \"default\".\n",
    "\n",
    "- `[:2]` corresponds to `[start=default:stop=2]`\n",
    "- `[1:]` corresponds to `[start=1:stop=default]`\n",
    "\n",
    "Therefore, the slicing operation `[:2]` pulls out the first and second values in an array. The slicing operation `[1:]` pull out the second through the last values in an array. The examples below illustrate the default stop value is the last value in the array."
   ]
  },
  {
   "cell_type": "markdown",
   "metadata": {},
   "source": [
    "## Example 4"
   ]
  },
  {
   "cell_type": "code",
   "execution_count": 29,
   "metadata": {},
   "outputs": [
    {
     "name": "stdout",
     "output_type": "stream",
     "text": [
      "[ 2  4  6  8 10  0  1  5]\n"
     ]
    }
   ],
   "source": [
    "a = np.array([2, 4, 6, 8, 10, 0, 1, 5])\n",
    "print(a)"
   ]
  },
  {
   "cell_type": "code",
   "execution_count": 30,
   "metadata": {},
   "outputs": [
    {
     "name": "stdout",
     "output_type": "stream",
     "text": [
      "[ 4  6  8 10  0  1  5]\n"
     ]
    }
   ],
   "source": [
    "b = a[1:]\n",
    "print(b)"
   ]
  },
  {
   "cell_type": "markdown",
   "metadata": {},
   "source": [
    "## Example 5"
   ]
  },
  {
   "cell_type": "code",
   "execution_count": 31,
   "metadata": {},
   "outputs": [
    {
     "name": "stdout",
     "output_type": "stream",
     "text": [
      "[0 5 6 1 0 8 1 5 9]\n"
     ]
    }
   ],
   "source": [
    "x = np.array([0, 5, 6, 1, 0, 8, 1, 5, 9])\n",
    "print(x)"
   ]
  },
  {
   "cell_type": "code",
   "execution_count": 32,
   "metadata": {},
   "outputs": [
    {
     "name": "stdout",
     "output_type": "stream",
     "text": [
      "[6 1 0 8 1 5 9]\n"
     ]
    }
   ],
   "source": [
    "y = x[2:]\n",
    "print(y)"
   ]
  },
  {
   "cell_type": "markdown",
   "metadata": {},
   "source": [
    "The next examples shows the default `start` value is the first value in the array."
   ]
  },
  {
   "cell_type": "code",
   "execution_count": 33,
   "metadata": {},
   "outputs": [
    {
     "name": "stdout",
     "output_type": "stream",
     "text": [
      "[2 4 6 8 1 3 6]\n"
     ]
    }
   ],
   "source": [
    "a = np.array([2, 4, 6, 8, 1, 3, 6])\n",
    "print(a)"
   ]
  },
  {
   "cell_type": "code",
   "execution_count": 34,
   "metadata": {},
   "outputs": [
    {
     "name": "stdout",
     "output_type": "stream",
     "text": [
      "[2 4 6]\n"
     ]
    }
   ],
   "source": [
    "b = a[:3]\n",
    "print(b)"
   ]
  },
  {
   "cell_type": "markdown",
   "metadata": {},
   "source": [
    "The following indexing operations output the same array."
   ]
  },
  {
   "cell_type": "code",
   "execution_count": 35,
   "metadata": {},
   "outputs": [
    {
     "name": "stdout",
     "output_type": "stream",
     "text": [
      "[2 1 7 4 6 8 3]\n",
      "[2 1 7 4 6 8 3]\n",
      "[2 1 7 4 6 8 3]\n",
      "[2 1 7 4 6 8 3]\n"
     ]
    }
   ],
   "source": [
    "a = np.array([2, 1, 7, 4, 6, 8, 3])\n",
    "\n",
    "b = a[0:7] # [start=0:stop= 6]\n",
    "\n",
    "print(b)\n",
    "\n",
    "c = a[:7] # [start=0:stop= 6]\n",
    "\n",
    "print(c)\n",
    "\n",
    "d = a[0:] # [start=0:stop= 6]\n",
    "\n",
    "print(d)\n",
    "\n",
    "e = a[:] # [start=0:stop= 6]\n",
    "\n",
    "print(e)"
   ]
  },
  {
   "cell_type": "markdown",
   "metadata": {},
   "source": [
    "# Class activity 3 (Pilot question 1)\n",
    "\n",
    "Consider:\n",
    "\n",
    "`a = np.array([2, 1, 0, 4, 7, 4, 6, 8, 3])`\n",
    "\n",
    "if you want to pull out the first three values in `a`, that is, to look like \n",
    "\n",
    "`array([2, 1, 0])`\n",
    "\n",
    "what will you do?"
   ]
  },
  {
   "cell_type": "markdown",
   "metadata": {},
   "source": [
    "# Pilot answer 1\n",
    "\n",
    "`a[:3]`"
   ]
  },
  {
   "cell_type": "markdown",
   "metadata": {},
   "source": [
    "# Numpy Attributes\n",
    "\n",
    "Array attributes reflect information that is intrinsic to the array itself. Generally, accessing an array through its attributes allows you to get the intrinsic properties of the array. Some commonly used attributes are:\n",
    "\n",
    "* shape:    indicates the dimension of an array\n",
    "* size:     returns the total number of elements in the array\n",
    "* dtype:    returns the type of elements in the array, i.e., int64, character\n"
   ]
  },
  {
   "cell_type": "markdown",
   "metadata": {},
   "source": [
    "You can check the shape of the array with the object shape preceded by the name of the array. In the same way, you can check the type with dtypes.\n"
   ]
  },
  {
   "cell_type": "markdown",
   "metadata": {},
   "source": [
    "## Example 1"
   ]
  },
  {
   "cell_type": "code",
   "execution_count": 36,
   "metadata": {},
   "outputs": [
    {
     "data": {
      "text/plain": [
       "array([ 2,  4,  6,  8, 10, 12, 14, 16])"
      ]
     },
     "execution_count": 36,
     "metadata": {},
     "output_type": "execute_result"
    }
   ],
   "source": [
    "even_array  = np.array([2, 4, 6, 8, 10, 12, 14, 16])\n",
    "\n",
    "even_array"
   ]
  },
  {
   "cell_type": "code",
   "execution_count": 37,
   "metadata": {},
   "outputs": [
    {
     "name": "stdout",
     "output_type": "stream",
     "text": [
      "(8,)\n"
     ]
    }
   ],
   "source": [
    "# dimension of the array\n",
    "\n",
    "print(even_array.shape)"
   ]
  },
  {
   "cell_type": "code",
   "execution_count": 38,
   "metadata": {},
   "outputs": [
    {
     "name": "stdout",
     "output_type": "stream",
     "text": [
      "8\n"
     ]
    }
   ],
   "source": [
    "# total element in the array\n",
    "print(even_array.size)"
   ]
  },
  {
   "cell_type": "code",
   "execution_count": 39,
   "metadata": {},
   "outputs": [
    {
     "name": "stdout",
     "output_type": "stream",
     "text": [
      "int32\n"
     ]
    }
   ],
   "source": [
    "# datatype in the array\n",
    "print(even_array.dtype) "
   ]
  },
  {
   "cell_type": "markdown",
   "metadata": {},
   "source": [
    "## Example 2"
   ]
  },
  {
   "cell_type": "code",
   "execution_count": 40,
   "metadata": {},
   "outputs": [
    {
     "data": {
      "text/plain": [
       "array([12, 62, 65,  7, 21, 60, 10, 87, 14, 43, 51, 10, 38, 95, 26, 11, 46,\n",
       "       47, 34, 68, 58, 77, 13, 10, 45])"
      ]
     },
     "execution_count": 40,
     "metadata": {},
     "output_type": "execute_result"
    }
   ],
   "source": [
    "some_array = np.array([12, 62, 65,  7, 21, 60, 10, 87, 14, 43, 51, 10, 38, 95, 26, 11, 46, 47, 34, 68, 58, 77, 13, 10, 45])\n",
    "\n",
    "some_array"
   ]
  },
  {
   "cell_type": "code",
   "execution_count": 41,
   "metadata": {},
   "outputs": [
    {
     "data": {
      "text/plain": [
       "(25,)"
      ]
     },
     "execution_count": 41,
     "metadata": {},
     "output_type": "execute_result"
    }
   ],
   "source": [
    "some_array.shape"
   ]
  },
  {
   "cell_type": "code",
   "execution_count": 42,
   "metadata": {},
   "outputs": [
    {
     "data": {
      "text/plain": [
       "25"
      ]
     },
     "execution_count": 42,
     "metadata": {},
     "output_type": "execute_result"
    }
   ],
   "source": [
    "some_array.size"
   ]
  },
  {
   "cell_type": "markdown",
   "metadata": {},
   "source": [
    "# Other ways to create arrays"
   ]
  },
  {
   "cell_type": "markdown",
   "metadata": {},
   "source": [
    "### arange\n",
    "The arange function is similar to the range function but returns an array:"
   ]
  },
  {
   "cell_type": "code",
   "execution_count": 43,
   "metadata": {},
   "outputs": [
    {
     "data": {
      "text/plain": [
       "array([0, 1, 2, 3, 4])"
      ]
     },
     "execution_count": 43,
     "metadata": {},
     "output_type": "execute_result"
    }
   ],
   "source": [
    "import numpy as np\n",
    "np.arange(5)"
   ]
  },
  {
   "cell_type": "code",
   "execution_count": 44,
   "metadata": {},
   "outputs": [
    {
     "data": {
      "text/plain": [
       "array([0, 1, 2, 3, 4, 5, 6, 7, 8, 9])"
      ]
     },
     "execution_count": 44,
     "metadata": {},
     "output_type": "execute_result"
    }
   ],
   "source": [
    "np.arange(10)"
   ]
  },
  {
   "cell_type": "code",
   "execution_count": 45,
   "metadata": {},
   "outputs": [
    {
     "data": {
      "text/plain": [
       "array([1, 3, 5, 7, 9])"
      ]
     },
     "execution_count": 45,
     "metadata": {},
     "output_type": "execute_result"
    }
   ],
   "source": [
    "np.arange(1, 10, 2)"
   ]
  },
  {
   "cell_type": "markdown",
   "metadata": {},
   "source": [
    "### linspace\n",
    "Return evenly spaced numbers over a specified interval."
   ]
  },
  {
   "cell_type": "code",
   "execution_count": 46,
   "metadata": {},
   "outputs": [
    {
     "data": {
      "text/plain": [
       "array([ 0.,  5., 10.])"
      ]
     },
     "execution_count": 46,
     "metadata": {},
     "output_type": "execute_result"
    }
   ],
   "source": [
    "np.linspace(0,10,3)"
   ]
  },
  {
   "cell_type": "code",
   "execution_count": 47,
   "metadata": {},
   "outputs": [
    {
     "data": {
      "text/plain": [
       "array([ 0.        ,  5.55555556, 11.11111111, 16.66666667, 22.22222222,\n",
       "       27.77777778, 33.33333333, 38.88888889, 44.44444444, 50.        ])"
      ]
     },
     "execution_count": 47,
     "metadata": {},
     "output_type": "execute_result"
    }
   ],
   "source": [
    "np.linspace(0, 50, 10)"
   ]
  },
  {
   "cell_type": "markdown",
   "metadata": {},
   "source": [
    "## random\n",
    "\n",
    "Numpy also has lots of ways to create random number arrays:\n",
    "\n",
    "### rand\n",
    "\n",
    "`numpy.random.rand()` creates an array of the given shape and populate it with random samples from a uniform distribution over [0, 1)."
   ]
  },
  {
   "cell_type": "code",
   "execution_count": 48,
   "metadata": {},
   "outputs": [
    {
     "data": {
      "text/plain": [
       "array([0.25576206, 0.4827032 , 0.27154667])"
      ]
     },
     "execution_count": 48,
     "metadata": {},
     "output_type": "execute_result"
    }
   ],
   "source": [
    "np.random.rand(3)"
   ]
  },
  {
   "cell_type": "code",
   "execution_count": 49,
   "metadata": {},
   "outputs": [
    {
     "data": {
      "text/plain": [
       "array([[0.89113549, 0.40135573, 0.92106703, 0.09391136, 0.36695159],\n",
       "       [0.74195433, 0.79097947, 0.19500484, 0.94726795, 0.94544754],\n",
       "       [0.42514933, 0.11020008, 0.00662118, 0.29685049, 0.16650326],\n",
       "       [0.40384536, 0.25307622, 0.70273094, 0.06005833, 0.6445571 ],\n",
       "       [0.72601159, 0.69857904, 0.32565753, 0.80996799, 0.0766876 ]])"
      ]
     },
     "execution_count": 49,
     "metadata": {},
     "output_type": "execute_result"
    }
   ],
   "source": [
    "np.random.rand(5, 5)"
   ]
  },
  {
   "cell_type": "markdown",
   "metadata": {},
   "source": [
    "### randn"
   ]
  },
  {
   "cell_type": "markdown",
   "metadata": {},
   "source": [
    "`numpy.random.randn()` returns a sample (or samples) from the \"standard normal\" distribution. Unlike `rand` which is uniform:"
   ]
  },
  {
   "cell_type": "code",
   "execution_count": 50,
   "metadata": {},
   "outputs": [
    {
     "data": {
      "text/plain": [
       "array([-0.10319486,  1.42912385])"
      ]
     },
     "execution_count": 50,
     "metadata": {},
     "output_type": "execute_result"
    }
   ],
   "source": [
    "np.random.randn(2)"
   ]
  },
  {
   "cell_type": "code",
   "execution_count": 51,
   "metadata": {},
   "outputs": [
    {
     "data": {
      "text/plain": [
       "array([-3.71617381e-01,  4.99634720e-01, -1.55403861e+00, -2.06997183e+00,\n",
       "        9.32990841e-01, -1.81924815e+00,  5.75458269e-01, -5.35094662e-01,\n",
       "       -1.46386148e+00,  6.69068357e-01,  6.96823466e-01, -1.84120177e+00,\n",
       "       -7.71288146e-01,  1.03722825e+00, -4.27671338e-01,  1.51695913e-02,\n",
       "        5.29912627e-01,  1.85208439e-01,  3.36423416e-01, -1.35622915e-01,\n",
       "        2.64381160e-01,  8.71614526e-01,  1.56528186e+00,  2.68996315e-01,\n",
       "        6.84663796e-01,  1.35351647e+00, -5.93678195e-01, -5.41750533e-01,\n",
       "        4.76491057e-01, -2.00696350e+00, -7.90785937e-01,  2.23476052e-01,\n",
       "       -1.19757240e+00,  7.12481625e-01,  1.76254776e+00, -4.00040328e-02,\n",
       "        3.72621459e-01,  9.30932412e-01,  2.44406692e+00, -8.93453111e-01,\n",
       "       -1.15249838e+00, -1.32610761e+00,  6.50563964e-01, -5.15101903e-01,\n",
       "       -4.22744240e-01, -2.05050950e+00, -4.49072927e-01, -1.43982102e-03,\n",
       "        2.09279770e+00,  1.33514311e-01])"
      ]
     },
     "execution_count": 51,
     "metadata": {},
     "output_type": "execute_result"
    }
   ],
   "source": [
    "np.random.randn(50)"
   ]
  },
  {
   "cell_type": "code",
   "execution_count": 52,
   "metadata": {},
   "outputs": [
    {
     "data": {
      "text/plain": [
       "array([[-1.23459923,  2.56913157, -2.38803784, -0.20361266, -0.85192003],\n",
       "       [ 0.27303167, -0.80724834,  0.248172  ,  0.39040131, -0.27633046],\n",
       "       [ 1.16522723, -1.12107195, -1.32237583,  0.55013136,  0.12333403],\n",
       "       [-0.52629067, -0.42857803,  0.00396803,  0.37131638,  0.0883102 ],\n",
       "       [-0.15919958, -0.33084369, -0.24295596, -0.2678193 ,  0.26894644]])"
      ]
     },
     "execution_count": 52,
     "metadata": {},
     "output_type": "execute_result"
    }
   ],
   "source": [
    "np.random.randn(5, 5)"
   ]
  },
  {
   "cell_type": "markdown",
   "metadata": {},
   "source": [
    "### randint\n",
    "Return random integers from low (inclusive) to high (exclusive)."
   ]
  },
  {
   "cell_type": "code",
   "execution_count": 53,
   "metadata": {},
   "outputs": [
    {
     "data": {
      "text/plain": [
       "93"
      ]
     },
     "execution_count": 53,
     "metadata": {},
     "output_type": "execute_result"
    }
   ],
   "source": [
    "np.random.randint(1, 100)"
   ]
  },
  {
   "cell_type": "code",
   "execution_count": 54,
   "metadata": {},
   "outputs": [
    {
     "data": {
      "text/plain": [
       "array([73, 76, 93, 19,  8, 59, 65, 45, 69, 93])"
      ]
     },
     "execution_count": 54,
     "metadata": {},
     "output_type": "execute_result"
    }
   ],
   "source": [
    "np.random.randint(1, 100, 10)"
   ]
  },
  {
   "cell_type": "markdown",
   "metadata": {},
   "source": [
    "# Class activity 4"
   ]
  },
  {
   "cell_type": "markdown",
   "metadata": {},
   "source": [
    "Create $100$ random integers from $20$ to $90$ using `np.random.randint()` function."
   ]
  },
  {
   "cell_type": "markdown",
   "metadata": {},
   "source": [
    "# Multi dimensional array"
   ]
  },
  {
   "cell_type": "markdown",
   "metadata": {},
   "source": [
    "Arrays can be multidimensional. Unlike lists, different axes are accessed using commas inside bracket notation. A simple 2-D array is defined by a list of lists. Here is an example with a two-dimensional array (e.g. a matrix).\n",
    "\n",
    "## Example 1"
   ]
  },
  {
   "cell_type": "markdown",
   "metadata": {},
   "source": [
    "$A = \n",
    "\\begin{pmatrix}\n",
    "1 & 2 & 3 \\\\\n",
    "4 & 5 & 6 \\\\\n",
    "7 & 8 & 9\n",
    "\\end{pmatrix}$\n"
   ]
  },
  {
   "cell_type": "code",
   "execution_count": 55,
   "metadata": {},
   "outputs": [
    {
     "name": "stdout",
     "output_type": "stream",
     "text": [
      "[[1 2 3]\n",
      " [4 5 6]\n",
      " [7 8 9]]\n"
     ]
    }
   ],
   "source": [
    "A = np.array([[1, 2, 3], [4, 5, 6], [7, 8, 9]])\n",
    "\n",
    "print(A)"
   ]
  },
  {
   "cell_type": "code",
   "execution_count": 56,
   "metadata": {},
   "outputs": [
    {
     "name": "stdout",
     "output_type": "stream",
     "text": [
      "(3, 3)\n"
     ]
    }
   ],
   "source": [
    "print(A.shape) # dimension of the array. This returns a tupple"
   ]
  },
  {
   "cell_type": "code",
   "execution_count": 57,
   "metadata": {},
   "outputs": [
    {
     "name": "stdout",
     "output_type": "stream",
     "text": [
      "9\n"
     ]
    }
   ],
   "source": [
    "print(A.size)# Total elements in the array"
   ]
  },
  {
   "cell_type": "markdown",
   "metadata": {},
   "source": [
    "## Example 2"
   ]
  },
  {
   "cell_type": "markdown",
   "metadata": {},
   "source": [
    "$another\\_array = \n",
    "\\begin{pmatrix}\n",
    "5 & 6 & 7 \\\\\n",
    "4 & 2 & 1 \\\\\n",
    "3 & 7 & 1\n",
    "\\end{pmatrix}$"
   ]
  },
  {
   "cell_type": "code",
   "execution_count": 58,
   "metadata": {},
   "outputs": [
    {
     "name": "stdout",
     "output_type": "stream",
     "text": [
      "[[5 6 7]\n",
      " [4 2 1]\n",
      " [3 7 1]]\n"
     ]
    }
   ],
   "source": [
    "another_array = np.array([[5, 6, 7], [4, 2, 1], [3, 7, 1]])\n",
    "\n",
    "print(another_array)"
   ]
  },
  {
   "cell_type": "code",
   "execution_count": 59,
   "metadata": {},
   "outputs": [
    {
     "name": "stdout",
     "output_type": "stream",
     "text": [
      "(3, 3)\n"
     ]
    }
   ],
   "source": [
    "print(another_array.shape) "
   ]
  },
  {
   "cell_type": "code",
   "execution_count": 60,
   "metadata": {},
   "outputs": [
    {
     "name": "stdout",
     "output_type": "stream",
     "text": [
      "9\n"
     ]
    }
   ],
   "source": [
    "print(another_array.size)"
   ]
  },
  {
   "cell_type": "markdown",
   "metadata": {},
   "source": [
    "# Class activity 5\n",
    "\n",
    "Consider:\n",
    "\n",
    "$x = \n",
    "\\begin{pmatrix}\n",
    "0 & 6 &  3\\\\\n",
    "5 & 2 & 7 \\\\\n",
    "3 & 4 & 1\n",
    "\\end{pmatrix}$\n",
    "\n",
    "1. Develop a two dimensional array for x using numpy\n",
    "\n",
    "2. What is the shape of x?\n",
    "\n",
    "3. What is the number of elements in x?"
   ]
  },
  {
   "cell_type": "markdown",
   "metadata": {},
   "source": [
    "## Two-Dimensional Array Indexing\n",
    "\n",
    "Values in a 2-D array can be accessed using the general notation below:\n",
    "\n",
    "`value = array name [row, col]`\n",
    "\n",
    "Where **value** is the value pulled out of the 2-D array and `[row, col]` specifies the row and column index of the value. Remember Python counting starts at 0, so the first row is row zero and the first column is column zero. We can access the value 2 in the array above by calling the row and column index `[0, 1]`. This corresponds to the 1st row (remember row 0 is the first row) and the 2nd column (column 0 is the first column)."
   ]
  },
  {
   "cell_type": "markdown",
   "metadata": {},
   "source": [
    "\n",
    "$A = \n",
    "\\begin{matrix}\n",
    "C0& C1 & C2\\\\\n",
    "1 & 2 & 3 & R0 \\\\\n",
    "4 & 5 & 6 & R1 \\\\\n",
    "7 & 8 & 9& R 2\n",
    "\\end{matrix}$\n"
   ]
  },
  {
   "cell_type": "markdown",
   "metadata": {},
   "source": [
    "## Example 1"
   ]
  },
  {
   "cell_type": "code",
   "execution_count": 61,
   "metadata": {},
   "outputs": [
    {
     "name": "stdout",
     "output_type": "stream",
     "text": [
      "[[1 2 3]\n",
      " [4 5 6]\n",
      " [7 8 9]]\n"
     ]
    }
   ],
   "source": [
    "A = np.array([[1, 2, 3], [4, 5, 6], [7, 8, 9]])\n",
    "\n",
    "print(A)"
   ]
  },
  {
   "cell_type": "code",
   "execution_count": 62,
   "metadata": {},
   "outputs": [
    {
     "data": {
      "text/plain": [
       "2"
      ]
     },
     "execution_count": 62,
     "metadata": {},
     "output_type": "execute_result"
    }
   ],
   "source": [
    "A[0, 1] # value 2 is is row 0 and column 1"
   ]
  },
  {
   "cell_type": "code",
   "execution_count": 63,
   "metadata": {},
   "outputs": [
    {
     "data": {
      "text/plain": [
       "4"
      ]
     },
     "execution_count": 63,
     "metadata": {},
     "output_type": "execute_result"
    }
   ],
   "source": [
    "A[1, 0] # value 4 is is row 1 and column 0"
   ]
  },
  {
   "cell_type": "markdown",
   "metadata": {},
   "source": [
    "## Example 2"
   ]
  },
  {
   "cell_type": "code",
   "execution_count": 64,
   "metadata": {},
   "outputs": [
    {
     "name": "stdout",
     "output_type": "stream",
     "text": [
      "[[2 3 4]\n",
      " [6 7 8]]\n"
     ]
    }
   ],
   "source": [
    "a = np.array([[2,3,4],[6,7,8]])\n",
    "print(a)"
   ]
  },
  {
   "cell_type": "code",
   "execution_count": 65,
   "metadata": {},
   "outputs": [
    {
     "data": {
      "text/plain": [
       "8"
      ]
     },
     "execution_count": 65,
     "metadata": {},
     "output_type": "execute_result"
    }
   ],
   "source": [
    "a[1, 2]"
   ]
  },
  {
   "cell_type": "code",
   "execution_count": 66,
   "metadata": {},
   "outputs": [],
   "source": [
    "a[1, 2] = 20"
   ]
  },
  {
   "cell_type": "code",
   "execution_count": 67,
   "metadata": {},
   "outputs": [
    {
     "name": "stdout",
     "output_type": "stream",
     "text": [
      "[[ 2  3  4]\n",
      " [ 6  7 20]]\n"
     ]
    }
   ],
   "source": [
    "print(a)"
   ]
  },
  {
   "cell_type": "markdown",
   "metadata": {},
   "source": [
    "## Other array indexing\n",
    "\n",
    "2D NumPy arrays can also be sliced with the general form:\n",
    "\n",
    "`array[row = start_row:end_row, col = start_col:end_col]`"
   ]
  },
  {
   "cell_type": "markdown",
   "metadata": {},
   "source": [
    "The code section below creates a two row by four column array and indexes out the first two rows and the first three columns."
   ]
  },
  {
   "cell_type": "code",
   "execution_count": 68,
   "metadata": {},
   "outputs": [
    {
     "name": "stdout",
     "output_type": "stream",
     "text": [
      "[[2 4 6 8]\n",
      " [0 5 4 1]]\n"
     ]
    }
   ],
   "source": [
    "a = np.array([[2, 4, 6, 8], [0, 5, 4, 1]])\n",
    "print(a)"
   ]
  },
  {
   "cell_type": "code",
   "execution_count": 69,
   "metadata": {},
   "outputs": [
    {
     "data": {
      "text/plain": [
       "(2, 4)"
      ]
     },
     "execution_count": 69,
     "metadata": {},
     "output_type": "execute_result"
    }
   ],
   "source": [
    "a.shape"
   ]
  },
  {
   "cell_type": "code",
   "execution_count": 70,
   "metadata": {},
   "outputs": [
    {
     "name": "stdout",
     "output_type": "stream",
     "text": [
      "[[2 4 6]\n",
      " [0 5 4]]\n"
     ]
    }
   ],
   "source": [
    "b = a[0:2, 0:3]\n",
    "print(b)"
   ]
  },
  {
   "cell_type": "markdown",
   "metadata": {},
   "source": [
    "The code section below slices out the first two rows and all columns from array a."
   ]
  },
  {
   "cell_type": "code",
   "execution_count": 71,
   "metadata": {},
   "outputs": [
    {
     "name": "stdout",
     "output_type": "stream",
     "text": [
      "[[2 4 6 8]\n",
      " [0 5 4 1]]\n"
     ]
    }
   ],
   "source": [
    "b = a[:2, :]  #[first two rows, all columns]\n",
    "print(b)"
   ]
  },
  {
   "cell_type": "markdown",
   "metadata": {},
   "source": [
    "Again, a blank represents defaults the first index or the last index. The colon operator all by itself also represents \"all\" (default start: default stop)."
   ]
  },
  {
   "cell_type": "code",
   "execution_count": 72,
   "metadata": {},
   "outputs": [
    {
     "name": "stdout",
     "output_type": "stream",
     "text": [
      "[[2 4 6 8]\n",
      " [0 5 4 1]]\n"
     ]
    }
   ],
   "source": [
    "b = a[:, :]  #[all rows, all columns]\n",
    "print(b)"
   ]
  },
  {
   "cell_type": "markdown",
   "metadata": {},
   "source": [
    "## 2D Array mathematics\n",
    "When standard mathematical operations are used with arrays, they are applied on an element-by-element basis. This means that the arrays should be the same size during addition,\n",
    "subtraction, etc.:"
   ]
  },
  {
   "cell_type": "markdown",
   "metadata": {},
   "source": [
    "## Example 1"
   ]
  },
  {
   "cell_type": "code",
   "execution_count": 73,
   "metadata": {},
   "outputs": [
    {
     "name": "stdout",
     "output_type": "stream",
     "text": [
      "[[3 8]\n",
      " [4 6]]\n"
     ]
    }
   ],
   "source": [
    "a = np.array([[3, 8], [4, 6]])\n",
    "print(a)"
   ]
  },
  {
   "cell_type": "code",
   "execution_count": 74,
   "metadata": {},
   "outputs": [
    {
     "name": "stdout",
     "output_type": "stream",
     "text": [
      "[[ 4  0]\n",
      " [ 1 -9]]\n"
     ]
    }
   ],
   "source": [
    "b =  np.array([[4, 0], [1, -9]])\n",
    "print(b)"
   ]
  },
  {
   "cell_type": "code",
   "execution_count": 75,
   "metadata": {},
   "outputs": [
    {
     "data": {
      "text/plain": [
       "array([[ 7,  8],\n",
       "       [ 5, -3]])"
      ]
     },
     "execution_count": 75,
     "metadata": {},
     "output_type": "execute_result"
    }
   ],
   "source": [
    "# Addition\n",
    "a + b "
   ]
  },
  {
   "cell_type": "code",
   "execution_count": 76,
   "metadata": {},
   "outputs": [
    {
     "data": {
      "text/plain": [
       "array([[-1,  8],\n",
       "       [ 3, 15]])"
      ]
     },
     "execution_count": 76,
     "metadata": {},
     "output_type": "execute_result"
    }
   ],
   "source": [
    "# Subtraction \n",
    "a - b"
   ]
  },
  {
   "cell_type": "code",
   "execution_count": 77,
   "metadata": {},
   "outputs": [
    {
     "data": {
      "text/plain": [
       "array([[ 6, 16],\n",
       "       [ 8, 12]])"
      ]
     },
     "execution_count": 77,
     "metadata": {},
     "output_type": "execute_result"
    }
   ],
   "source": [
    "# Multiply by a Constant\n",
    "\n",
    "a*2"
   ]
  },
  {
   "cell_type": "markdown",
   "metadata": {},
   "source": [
    "**Multiplying by Another Matrix**\n",
    "\n",
    "Multiplication of two matrices is possible only when number of columns in first matrix equals number of rows in second matrix. Multiplication by another matrix uses a `dot product` or with `@` operator"
   ]
  },
  {
   "cell_type": "code",
   "execution_count": 78,
   "metadata": {},
   "outputs": [
    {
     "data": {
      "text/plain": [
       "array([[ 20, -72],\n",
       "       [ 22, -54]])"
      ]
     },
     "execution_count": 78,
     "metadata": {},
     "output_type": "execute_result"
    }
   ],
   "source": [
    "np.dot(a, b)"
   ]
  },
  {
   "cell_type": "code",
   "execution_count": 79,
   "metadata": {},
   "outputs": [
    {
     "data": {
      "text/plain": [
       "array([[ 20, -72],\n",
       "       [ 22, -54]])"
      ]
     },
     "execution_count": 79,
     "metadata": {},
     "output_type": "execute_result"
    }
   ],
   "source": [
    "a @ b"
   ]
  },
  {
   "cell_type": "markdown",
   "metadata": {},
   "source": [
    "# Class activity 6\n",
    "\n",
    "Consider the following numpy arrays:\n",
    "\n",
    "`a = np.array([[3, 1, 8], [4,2, 6], [3, 7, 4]])`\n",
    "\n",
    "`b =  np.array([[4, 0, 6], [1, -9, 2], [1, 2, 3]])`\n",
    "\n",
    "\n",
    "Find the value of :\n",
    "\n",
    "1. `a - b`\n",
    "\n",
    "2. `a + b`\n",
    "\n",
    "3. `a` $\\times$ `b`\n",
    "\n",
    "4. What is result of `a[0 : 1, 1 : 2]`?"
   ]
  },
  {
   "cell_type": "markdown",
   "metadata": {},
   "source": [
    "# NumPy use cases: Systems of Linear Equations"
   ]
  },
  {
   "cell_type": "markdown",
   "metadata": {},
   "source": [
    "Our knowledge in numpy array can be used to solve system of linear equations. Remember in your junior high school, you were taught how to solve simultaneous equation. The terms simultaneous equations or systems of linear equations refer to conditions where two or more unknown variables are related to each other through an equal number of equations.\n",
    "\n",
    "\n",
    "A system of linear equations is shown below:\n",
    "    \n",
    "    \n",
    "$2x + 3y = 8$\n",
    "    \n",
    "$x - y = -1$\n",
    "\n",
    "We have two unknowns variables x and y and two equations i.e. $2x + 3y = 8$ and $x - y = -1$ ."
   ]
  },
  {
   "cell_type": "markdown",
   "metadata": {},
   "source": [
    "## numpy.linalg.solve()"
   ]
  },
  {
   "cell_type": "markdown",
   "metadata": {},
   "source": [
    "NumPy's `np.linalg.solve()` function can be used to solve this system of equations for the variables x and y."
   ]
  },
  {
   "cell_type": "markdown",
   "metadata": {},
   "source": [
    "## Steps to follow:"
   ]
  },
  {
   "cell_type": "markdown",
   "metadata": {},
   "source": [
    "The steps to solve the system of linear equations with np.linalg.solve() are below:\n",
    "\n",
    "1. Create NumPy array `A` as a 2 by 2 array of the coefficients in x and y\n",
    "\n",
    "2. Create a NumPy array `b` as the right-hand side of the equations\n",
    "\n",
    "3. Solve for the values of x and y using `np.linalg.solve(A, b)`."
   ]
  },
  {
   "cell_type": "markdown",
   "metadata": {},
   "source": [
    "The resulting array has two entries. One entry for each variable."
   ]
  },
  {
   "cell_type": "markdown",
   "metadata": {},
   "source": [
    "## Example 1\n",
    "\n",
    "\n",
    "Solve simulataneuos equation below:\n",
    "    \n",
    "    \n",
    "$2x + 3y = 8$\n",
    "    \n",
    "$x - y = -1$\n",
    "\n",
    "## Solution\n",
    "\n",
    "We want to solve for the unknown x and y."
   ]
  },
  {
   "cell_type": "code",
   "execution_count": 80,
   "metadata": {},
   "outputs": [
    {
     "data": {
      "text/plain": [
       "array([1., 2.])"
      ]
     },
     "execution_count": 80,
     "metadata": {},
     "output_type": "execute_result"
    }
   ],
   "source": [
    "import numpy as np\n",
    "\n",
    "A = np.array([[2, 3], [1, -1]])\n",
    "b = np.array([8, -1])\n",
    "x = np.linalg.solve(A, b)\n",
    "x"
   ]
  },
  {
   "cell_type": "markdown",
   "metadata": {},
   "source": [
    "`x = x[0]`\n",
    "\n",
    "`y = x[1]`"
   ]
  },
  {
   "cell_type": "markdown",
   "metadata": {},
   "source": [
    "Therefore, \n",
    "$x = 1$ and $y = 2$."
   ]
  },
  {
   "cell_type": "markdown",
   "metadata": {},
   "source": [
    "## Example 2"
   ]
  },
  {
   "cell_type": "markdown",
   "metadata": {},
   "source": [
    "Solve the system of linear equation:\n",
    "\n",
    "$2x -y = 3$\n",
    "\n",
    "$x -3y = -2$"
   ]
  },
  {
   "cell_type": "markdown",
   "metadata": {},
   "source": [
    "## Solution\n",
    "\n",
    "We want to solve for the unknown x and y."
   ]
  },
  {
   "cell_type": "code",
   "execution_count": 81,
   "metadata": {},
   "outputs": [
    {
     "data": {
      "text/plain": [
       "array([2.2, 1.4])"
      ]
     },
     "execution_count": 81,
     "metadata": {},
     "output_type": "execute_result"
    }
   ],
   "source": [
    "import numpy as np\n",
    "\n",
    "A = np.array([[2, -1], [1, -3]])\n",
    "b = np.array([3, -2])\n",
    "x = np.linalg.solve(A, b)\n",
    "x"
   ]
  },
  {
   "cell_type": "markdown",
   "metadata": {},
   "source": [
    "$x = x[0] = 2.2$\n",
    "\n",
    "$y = x[1] = 1.4$"
   ]
  },
  {
   "cell_type": "markdown",
   "metadata": {},
   "source": [
    "# Class activity 6\n",
    "\n",
    "The following simultaneous/system of equation:\n",
    "    \n",
    "3x + 4y = 24\n",
    "\n",
    "4x + 3y = 22    \n",
    "    \n",
    "has been broken down to numpy array for you:\n",
    "    \n",
    "\n",
    "`A = np.array([[3, 4], [4, 3]])`\n",
    "\n",
    "`b =  np.array([24, 22])`\n",
    "\n",
    "\n",
    "Complete the following code to solve for x and y: \n",
    "    \n",
    "`np.linalg( _ , _)` "
   ]
  }
 ],
 "metadata": {
  "kernelspec": {
   "display_name": "Python 3 (ipykernel)",
   "language": "python",
   "name": "python3"
  },
  "language_info": {
   "codemirror_mode": {
    "name": "ipython",
    "version": 3
   },
   "file_extension": ".py",
   "mimetype": "text/x-python",
   "name": "python",
   "nbconvert_exporter": "python",
   "pygments_lexer": "ipython3",
   "version": "3.11.3"
  }
 },
 "nbformat": 4,
 "nbformat_minor": 4
}
