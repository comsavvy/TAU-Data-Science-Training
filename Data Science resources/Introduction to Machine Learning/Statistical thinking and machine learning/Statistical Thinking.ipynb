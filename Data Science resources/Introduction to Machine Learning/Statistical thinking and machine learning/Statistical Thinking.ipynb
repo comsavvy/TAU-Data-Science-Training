{
 "cells": [
  {
   "cell_type": "markdown",
   "metadata": {},
   "source": [
    "# CS21: Introduction to Data Science"
   ]
  },
  {
   "cell_type": "markdown",
   "metadata": {},
   "source": [
    "# The foundation of statistical thinking\n",
    "\n",
    "## Importing packages"
   ]
  },
  {
   "cell_type": "code",
   "execution_count": null,
   "metadata": {},
   "outputs": [],
   "source": [
    "import numpy as np\n",
    "import pandas as pd\n",
    "import matplotlib.pyplot as plt\n",
    "import seaborn as sns"
   ]
  },
  {
   "cell_type": "markdown",
   "metadata": {},
   "source": [
    "# Measure of central tendency\n",
    "\n",
    "The most common measures of central tendency are the mean, median, and the mode. Measure of central tendency is also known as measure of location or average.\n",
    "\n",
    "## Mean\n",
    "\n",
    "The arithmetic mean or simply mean is the sum of all the elements divided by the number of elements.\n",
    "\n",
    "The sample mean is denoted by $\\bar{X}$ while the population mean is denoted as $\\mu$.\n",
    "\n",
    "$$\\text{Sample mean}  = \\bar{X}= \\sum_{i = 1}^n \\frac{x_i}{n} = \\frac{x_1 + x_2 + \\cdots + x_n}{n}$$\n",
    "\n",
    "$$\\text{Population mean}  = \\mu= \\sum_{i = 1}^N \\frac{x_i}{N} = \\frac{x_1 + x_2 + \\cdots + x_N}{N}$$"
   ]
  },
  {
   "cell_type": "markdown",
   "metadata": {},
   "source": [
    "# Example 1\n",
    "The sample ages of 10 students in CS 2 are shown below:\n",
    "    \n",
    "14, 25, 17, 21, 11, 17, 22, 25, 16, and 13"
   ]
  },
  {
   "cell_type": "markdown",
   "metadata": {},
   "source": [
    "$\\text{Mean} = \\frac{14 + 25+ 17+ 21+ 11+ 17+ 22+  25+ 16 +13}{10} = \\frac{181}{10} = 18.1$"
   ]
  },
  {
   "cell_type": "markdown",
   "metadata": {},
   "source": [
    "# How to get mean in Python?\n",
    "\n",
    "\n",
    "We can use `np.mean()` to calculate the mean of the data. We need to first convert the raw data to Numpy array."
   ]
  },
  {
   "cell_type": "code",
   "execution_count": null,
   "metadata": {},
   "outputs": [],
   "source": [
    "import numpy as np\n",
    "\n",
    "age = np.array([14, 25, 17, 21, 11, 17, 22, 25, 16, 13])\n",
    "\n",
    "np.mean(age)"
   ]
  },
  {
   "cell_type": "markdown",
   "metadata": {},
   "source": [
    "or simply use `age.mean()`"
   ]
  },
  {
   "cell_type": "code",
   "execution_count": null,
   "metadata": {},
   "outputs": [],
   "source": [
    "age.mean()"
   ]
  },
  {
   "cell_type": "markdown",
   "metadata": {},
   "source": [
    "# Example 2\n",
    "\n",
    "The Professor of Computer Science whose name is Addisu works at Addis Ababa University, Ethiopia. On a weekly basis, he used to give money in Ethiopian Birr (ETB) to the best student in his weekly assignment. The following are the amounts he has given out during CS 2 course:\n",
    "\n",
    "495, 503, 503, 498, 503, 505, 503, 500, 501, 489, 498, 488, 499, 497, 508, 507,  507, 509, 508, and 503 respectively.\n",
    "\n",
    "Calculate the mean amount of money he has given out using Python.\n"
   ]
  },
  {
   "cell_type": "code",
   "execution_count": null,
   "metadata": {},
   "outputs": [],
   "source": [
    "money = np.array([495, 503, 503, 498, 503, 505, 503, 500, 501, 489, 498, 488, 499, 497, 508, 507,  507, 509, 508, 503])\n",
    "\n",
    "money.mean()"
   ]
  },
  {
   "cell_type": "markdown",
   "metadata": {},
   "source": [
    "The mean amount of money Professor Addisu has given out is 501.2 ETB."
   ]
  },
  {
   "cell_type": "markdown",
   "metadata": {},
   "source": [
    "# Median \n",
    "\n",
    "The median is the middle value when the data is arrange in ascending or decending order.\n",
    "\n",
    "Note: \n",
    "\n",
    "When the number of observations is odd, then the middle number when the observations are arranged is the median. \n",
    "\n",
    "Consider the following data:\n",
    "\n",
    "$13$ students registered for the programming with Python course (CS 2 1) and the performance of the students were shown below:\n",
    "\n",
    "![image.png](Image/m1.png)\n",
    "\n",
    "You will notice that the data are not sorted (not well arranged). We need to rearrange it in ascending order (from smallest to highest) or descending order (from highest to lowest) and take the middle number as the median because the number of observation is 13 i.e. it is odd.\n",
    "\n",
    "After arranging in ascending order we have:\n",
    "\n",
    "![image.png](Image/m2.png)\n",
    "\n",
    "\n",
    "Therefore the middian is in the 7th position and the value of the median is 12."
   ]
  },
  {
   "cell_type": "markdown",
   "metadata": {},
   "source": [
    "# How to get median in Python?\n",
    "\n",
    "\n",
    "We can use `np.median()` to calculate the median after we first convert the raw data to Numpy array."
   ]
  },
  {
   "cell_type": "code",
   "execution_count": null,
   "metadata": {},
   "outputs": [],
   "source": [
    "performance = np.array([7, 15, 10, 9, 18, 6, 21, 12, 16, 13, 5, 23, 2])\n",
    "\n",
    "np.median(performance)"
   ]
  },
  {
   "cell_type": "markdown",
   "metadata": {},
   "source": [
    "Numpy array object has no attribute `.median()`. So we can never use `performance.median()`"
   ]
  },
  {
   "cell_type": "markdown",
   "metadata": {},
   "source": [
    "\n",
    "## Example 2 \n",
    "\n",
    "Consider the following data:\n",
    "\n",
    "16 students registered for the introduction to data science course (CS 2 2) and the performance of the students were shown below:\n",
    "\n",
    "![image.png](Image/m3.png)\n",
    "\n",
    "\n",
    "You will notice that the number of observations is 16. So, if the number of observation is even, then the median will lie within the two middle numbers when the numbers are sorted in ascending or decending order of magnitude. In that case, the median is the mean of the two middle numbers.\n",
    "\n",
    "\n",
    "Let's rearrange in ascending order \n",
    "\n",
    "![image.png](Image/m4.png)\n",
    "\n",
    "The median falls between 8th and 9th position which correspond to the value of 13 and 15 respectively. Therefore, the median is the mean of 13 and 15 i.e. $\\frac{13+15}{2} = 14$"
   ]
  },
  {
   "cell_type": "markdown",
   "metadata": {},
   "source": [
    "**Let's verify the result in Python**"
   ]
  },
  {
   "cell_type": "code",
   "execution_count": null,
   "metadata": {},
   "outputs": [],
   "source": [
    "performance = np.array([13, 18, 10, 9, 21, 13, 23, 2, 23, 2, 7, 21, 15, 18, 20, 7])\n",
    "\n",
    "np.median(performance)"
   ]
  },
  {
   "cell_type": "markdown",
   "metadata": {},
   "source": [
    "# Mode\n",
    "\n",
    "The mode is the value that occurs the most frequently in the data set. You can easily get the mode by tabulating your dataset.\n",
    "\n",
    "# Example\n",
    "\n",
    "Mr Jamal a native of Somalia recorded the number of phone calls he received during the month of December 2020. The amount of calls he received for each day were as folows:\n",
    "\n",
    "0, 2, 6, 2, 2, 0, 0, 1, 1, 5, 3, 1, 0, 2, 3, 1, 2, 1, 4, 4, 5, 0, 5, 1, 2, 2, 2, 0, 4, 0, and 6.\n",
    "\n",
    "Find the number of calls he received most in December."
   ]
  },
  {
   "cell_type": "markdown",
   "metadata": {},
   "source": [
    "# Solution\n",
    "\n",
    "If we count the number of time each call was received, we will have a table like this:\n",
    "\n",
    "![image.png](Image/m5.png)\n",
    "\n",
    "We can read the table as follows:\n",
    "\n",
    "No call (0) appears $7$ times\n",
    "\n",
    "$1$ call appears $6$ times\n",
    "\n",
    "$2$ calls appear $8$ times\n",
    "\n",
    "and so on.\n",
    "\n",
    "Therefore, calls with the highest frequency (number of time it appeared) is the mode.\n",
    "\n",
    "![image.png](Image/m6.png)\n",
    "\n",
    "In this case, 2 is the mode\n"
   ]
  },
  {
   "cell_type": "markdown",
   "metadata": {},
   "source": [
    "# How to get mode in Python?\n",
    "\n",
    "We can use scipy module (package) to calculate mode. Let's import it."
   ]
  },
  {
   "cell_type": "code",
   "execution_count": null,
   "metadata": {},
   "outputs": [],
   "source": [
    "from scipy import stats"
   ]
  },
  {
   "cell_type": "markdown",
   "metadata": {},
   "source": [
    "We then use `stats.mode()` function to calculate the mode of the raw data when we might have converted it to Numpy array."
   ]
  },
  {
   "cell_type": "code",
   "execution_count": null,
   "metadata": {},
   "outputs": [],
   "source": [
    "calls = np.array([0, 2, 6, 2, 2, 0, 0, 1, 1, 5, 3, 1, 0, 2, 3, 1, 2, 1, 4, 4, 5, 0, 5, 1, 2, 2, 2, 0, 4, 0, 6])\n",
    "\n",
    "stats.mode(calls)"
   ]
  },
  {
   "cell_type": "markdown",
   "metadata": {},
   "source": [
    "As you can see, the mode is 2 and its frequency is 8."
   ]
  },
  {
   "cell_type": "markdown",
   "metadata": {},
   "source": [
    "# Example 2\n",
    "\n",
    "According to the United Nations (UN), there are 54 countries in Africa. Each country in Africa is grouped in to region. So we have regions like Central Africa, East Africa, North Africa, Southern Africa, and West Africa.\n",
    "\n",
    "![image.png](Image/m7.png)\n",
    "\n",
    "Which region has the highest number of countries?\n",
    "\n",
    "\n",
    "# Solution\n",
    "\n"
   ]
  },
  {
   "cell_type": "markdown",
   "metadata": {},
   "source": [
    "From the table above, we can see that the East Africa region has the highest number of countries (18) is the mode. Therefore, the mode is East Africa."
   ]
  },
  {
   "cell_type": "markdown",
   "metadata": {},
   "source": [
    "# Class activity\n",
    "\n",
    "Thirty farmers were asked how many farm workers they hire during a typical harvest season in Tigriya. Their responses were:\n",
    "\n",
    "4, 5, 6, 5, 1, 2, 8, 0, 4, 6, 7, 8, 4, 6, 7, 9, 8, 6, 7, 5, 5, 4, 2, 1, 9, 3, 3, 4, 6, 4.\n",
    "\n",
    "Find the mean, median, and the mode of the farm workers hired using Python"
   ]
  },
  {
   "cell_type": "markdown",
   "metadata": {},
   "source": [
    "# Measures of spread\n",
    "\n",
    "\n",
    "A measure of spread also known as  measure of dispersion is used to describe the variability in the data. That is, it tells us how wide the dataset is.\n",
    "\n",
    "\n",
    "The most common measures of spread are:\n",
    "\n",
    "\n",
    "- Range\n",
    "\n",
    "- Standard deviation\n",
    "\n",
    "- Variance\n",
    "\n",
    "- Mean absolute deviation"
   ]
  },
  {
   "cell_type": "markdown",
   "metadata": {},
   "source": [
    "# Range\n",
    "\n",
    "The range is the difference between the highest and lowest values in a data set. It is the simplest measure of spread. The formular for range is:\n",
    "\n",
    "Range = maximum value - minimum value\n",
    "\n",
    "The Range tells you how much is in between the lowest value and highest value.\n",
    "\n",
    "\n",
    "# Example \n",
    "\n",
    "For example, let us consider the following data set:\n",
    "\n",
    "14, 25, 17, 21, 11, 17, 22, 25, 16, and 13.\n",
    "\n",
    "Calculate the range is the dataset.\n",
    "\n",
    "# Solution\n",
    "\n",
    "Range = Maximum value - Minimum value\n",
    "\n",
    "Maximum value = 25 (The highest value of the dataset)\n",
    "\n",
    "Minumum value = 11 (The lowest value in the dataset)\n",
    "\n",
    "\n",
    "Range = 25 - 11 = 14\n",
    "\n",
    "Therefore, the range of the data is 15."
   ]
  },
  {
   "cell_type": "markdown",
   "metadata": {},
   "source": [
    "---\n",
    "\n",
    "The limitation of range is that it doesn't provide a very accurate picture of the variability.\n",
    "\n",
    "\n",
    "\n",
    "# Variance\n",
    "\n",
    "The variance is the average of the squared differences from the mean. It is a measure of how far each value in the data set is from the mean. A small variance indicates that the data points tend to be very close to the mean and to each other. A high variance indicates that the data points are very spread out from the mean and from each other.\n",
    "\n",
    "The sample variance is denoted by $s^2$ while the population variance is denoted by $\\sigma^2$.\n",
    "\n",
    "The poluation variance is $$\\sigma^2 = \\frac{\\sum(x - \\mu)^2}{N}$$\n",
    "\n",
    "The sample variance is $$s^2 = \\frac{\\sum(x - \\bar{x})^2}{n-1}$$\n",
    "\n",
    "\n",
    "where,\n",
    "\n",
    "$\\sum$ = sum of...\n",
    "\n",
    "$\\mu$ = population mean\n",
    "\n",
    "$\\bar{X}$ = sample mean\n",
    "\n",
    "n = sample size\n",
    "\n",
    "N = population size\n",
    "\n",
    "# Example 1\n",
    "\n",
    "![](Image/giraffe_variance.jpg)\n",
    "\n",
    "Source: https://tinystats.github.io/teacups-giraffes-and-statistics/\n",
    "\n",
    "\n",
    "The height of 5 sample Giraffes in South Sudan Zoo are shown above and their heights are as follows:\n",
    "\n",
    "113, 146.5, 132, 70.5, 121, and 55.\n",
    "\n",
    "Calculate the variance of the height of Giraffes.\n",
    "\n",
    "# Solution"
   ]
  },
  {
   "cell_type": "markdown",
   "metadata": {},
   "source": [
    "Variable:  x=  height of a Giraffe\n",
    "\n",
    "The mean for this data set is $\\bar{X}$ = $\\frac{113 + 146.5 + 132 + 70.5 + 121 + 55.}{6} = 106.3$ mm\n",
    "\n",
    "\n",
    "![image.png](Image/m8.png)"
   ]
  },
  {
   "cell_type": "markdown",
   "metadata": {},
   "source": [
    "The sample variance is $$s^2 = \\frac{\\sum(x - \\bar{x})^2}{n-1}$$"
   ]
  },
  {
   "cell_type": "markdown",
   "metadata": {},
   "source": [
    "$\\sum(x_i - \\bar{x})^2 = 6450.84$\n",
    "\n",
    "$n-1= 6 -1 = 5$\n",
    "\n",
    "$s^2 = \\frac{6450.84}{5} = 1290.1$\n",
    "\n",
    "Therefore, the variance of the height of Giraffes is 1290.1"
   ]
  },
  {
   "cell_type": "markdown",
   "metadata": {},
   "source": [
    "# How to get variance in Python?\n",
    "\n",
    "With numpy.var() we can get the variance of an array."
   ]
  },
  {
   "cell_type": "code",
   "execution_count": null,
   "metadata": {},
   "outputs": [],
   "source": [
    "heights = np.array([113, 146.5, 132, 70.5, 121, 55])\n",
    "\n",
    "np.var(heights)"
   ]
  },
  {
   "cell_type": "markdown",
   "metadata": {},
   "source": [
    "We will notice that `np.var()` gave us a value that is difference from what we calculated in the formula. It is so because `np.var()` can only calculate the population variance."
   ]
  },
  {
   "cell_type": "markdown",
   "metadata": {},
   "source": [
    "However, we see that it does not have the same units of heights. It is strange. Therefore, we introducing concept of standard deviation"
   ]
  },
  {
   "cell_type": "markdown",
   "metadata": {},
   "source": [
    "---\n",
    "One problem with the variance is that it does not have the same unit of measure as the original data. For example, original data containing heights measured in millimeter (mm) has a variance measured in square millimeter ($mm^2$)."
   ]
  },
  {
   "cell_type": "markdown",
   "metadata": {},
   "source": [
    "# Standard deviation"
   ]
  },
  {
   "cell_type": "markdown",
   "metadata": {},
   "source": [
    "The **standard deviation** is square root of variance"
   ]
  },
  {
   "cell_type": "markdown",
   "metadata": {},
   "source": [
    "The poluation standard deviation is $$\\sigma = \\sqrt{\\frac{\\sum(x - \\mu)^2}{N}}$$\n",
    "\n",
    "The sample standard deviation is $$s = \\sqrt{\\frac{\\sum(x - \\bar{x})^2}{n-1}}$$"
   ]
  },
  {
   "cell_type": "markdown",
   "metadata": {},
   "source": [
    "# Example \n",
    "\n",
    "In example 1, we got the variance of the height of Giraffes to be 1290.1\n",
    "\n",
    "Therefore, the standard deviation will be $\\sqrt{1290.1} = 35.92 $"
   ]
  },
  {
   "cell_type": "markdown",
   "metadata": {},
   "source": [
    "The standard deviation of the sample height of Giraffes in South Sudan is 35.92 mm"
   ]
  },
  {
   "cell_type": "markdown",
   "metadata": {},
   "source": [
    "# How to get standard deviation in Python?\n",
    "\n",
    "With `numpy.std()` we can get the variance of an array."
   ]
  },
  {
   "cell_type": "code",
   "execution_count": null,
   "metadata": {},
   "outputs": [],
   "source": [
    "heights = np.array([113, 146.5, 132, 70.5, 121, 55])\n",
    "\n",
    "np.std(heights)"
   ]
  },
  {
   "attachments": {
    "be16adcb-864d-45ee-99eb-17d214ba6183.png": {
     "image/png": "[encoded data removed]"
    }
   },
   "cell_type": "markdown",
   "metadata": {},
   "source": [
    "# Measure of partition\n",
    "\n",
    "Measures of partition are measures that divide a distribution into specified number of parts. \n",
    "\n",
    "The following are the most common measure of partition:\n",
    "\n",
    "- Quartiles\n",
    "\n",
    "- Percentile\n",
    "\n",
    "# Quartile\n",
    "\n",
    "This measure divides frequency distribution into four equal parts, Q1 (first/lower quartile), Q2 (second quartile), Q3 (third/upper quartile) and Q4.\n",
    "\n",
    "\n",
    "If the data set consist of n items and we arranged then in ascending order then\n",
    "\n",
    "![image.png](attachment:be16adcb-864d-45ee-99eb-17d214ba6183.png)\n",
    "\n",
    "Important note\n",
    "\n",
    "The second quartile is also the median.\n",
    "\n",
    "$Q_4$ is always equal to the number of observations. Therefore, it is not always useful!\n",
    "\n",
    "\n",
    "\n",
    "\n",
    "\n",
    "# Interquartile range\n",
    "\n",
    "Interquartile range (IQR) is the difference between the third quartile ($Q_3$) and the first quartile ($Q_1$)\n"
   ]
  },
  {
   "cell_type": "markdown",
   "metadata": {},
   "source": [
    "# Example 1\n",
    "\n",
    "Compute Q1, Q3 and the inter quartile range for the data relating to the marks of 13 students in the Introduction to Statistical Thinking quiz given below:\n",
    "\n",
    "10, 15, 10, 9, 18, 16, 14, 12, 16, 13, 15, 20, 17."
   ]
  },
  {
   "cell_type": "markdown",
   "metadata": {},
   "source": [
    "# Solution\n",
    "\n",
    "n = 13\n",
    "\n",
    "Arrange the values in ascending order\n",
    "\n",
    "9, 10, 10, 12, 13, 14, 15, 15, 16, 16, 17, 18, 20"
   ]
  },
  {
   "cell_type": "markdown",
   "metadata": {},
   "source": [
    "$Q_1 = \\big(\\frac{n+1}{4}\\big)^{th}$ position   \n",
    "\n",
    "$Q_1 = \\big(\\frac{13+1}{4}\\big)^{th}$ = 3.5 position\n",
    "\n",
    "So, the first quartile is within third and forth position. We therefore, find the average of the values."
   ]
  },
  {
   "cell_type": "markdown",
   "metadata": {},
   "source": [
    "![image.png](Image/m9.png)\n",
    "\n",
    "$Q_1 = \\frac{10+14}{2} = 12$"
   ]
  },
  {
   "cell_type": "markdown",
   "metadata": {},
   "source": [
    "---\n",
    "\n",
    "$Q_3 = \\big(\\frac{3n+1}{4}\\big)^{th}$ position   \n",
    "\n",
    "$Q_3 = 3\\big(\\frac{13+1}{4}\\big)^{th} = 3 \\times \\frac{14}{4} = \\frac{42}{4} $ = 10.5th position\n",
    "\n",
    "The third quartile is within 10th and 11th positions. We therefore, find the average of the values.\n",
    "\n",
    "$Q_3 = \\frac{16+17}{2} = 16.5$"
   ]
  },
  {
   "cell_type": "markdown",
   "metadata": {},
   "source": [
    "---\n",
    "\n",
    "$\\text{Interquartile range (IQR)} = Q_3 - Q_1 = 16.5 -12 = 4.5$\n",
    "\n",
    "---\n",
    "The Quartiles are divisions of data by 25%, therefore,\n",
    "\n",
    "Quartile 1 (Q1) can be called the **25th** percentile \n",
    "\n",
    "Quartile 2 (Q2) can be called the **50th** percentile \n",
    "\n",
    "Quartile 3 (Q3) can be called the **75th** percentile\n",
    "\n",
    "![](Image/percentile.png)"
   ]
  },
  {
   "cell_type": "markdown",
   "metadata": {},
   "source": [
    "# How to get Quartile in Python?\n",
    "\n",
    "With `numpy.quantile()` method we can get the quartile values of an array.\n",
    "\n",
    "numpy.quantile(a, q)\n",
    "\n",
    "Where:\n",
    "- a is the array\n",
    "\n",
    "- q is sequence of quantiles to compute, which must be between 0 and 1 inclusive.\n",
    "\n",
    "Therefore, for Q1 (q= 0.25), for Q2 (q = 0.5), and for Q3 (q= 0.75)"
   ]
  },
  {
   "cell_type": "markdown",
   "metadata": {},
   "source": [
    "# Example \n",
    "\n",
    "From the example 1 above, use Numpy to compute Q1, Q3 and the inter quartile range\n",
    "\n",
    "\n",
    "# Solution"
   ]
  },
  {
   "cell_type": "code",
   "execution_count": null,
   "metadata": {},
   "outputs": [],
   "source": [
    "marks = np.array([10, 15, 10, 9, 18, 16, 14, 12, 16, 13, 15, 20, 17])\n",
    "\n",
    "np.quantile(a= marks, q = [0.25, 0.75])"
   ]
  },
  {
   "cell_type": "markdown",
   "metadata": {},
   "source": [
    "Q1 = 12\n",
    "\n",
    "Q3 = 16\n",
    "\n",
    "Interquartile range (IQR) = Q3 - Q1 = 16 -12 = 4"
   ]
  },
  {
   "cell_type": "markdown",
   "metadata": {},
   "source": [
    "# Percentiles\n",
    "\n",
    "This measure divides frequency distribution into 100 equal parts, P1 (first percentile), P2 (second percentile), $\\cdots$ P50 (median), $\\cdots$, P75 (75th percentile), $\\cdots$, and P100.\n",
    "\n",
    "\n",
    "Percentiles indicate the percentage of scores that fall below a particular value. They tell you where a score stands relative to other scores. For example, you are the fourth tallest person in a group of 20 for the high jump training in Kenya.\n",
    "\n",
    "$80\\%$ of people are shorter than you:\n",
    "\n",
    "![image.png](Image/m10.png)\n",
    "\n",
    "\n",
    "That means you are at the 80th percentile. If your height is 1.60m then \"1.60m\" is the 80th percentile height in that group."
   ]
  },
  {
   "cell_type": "markdown",
   "metadata": {},
   "source": [
    "Important note:\n",
    "    \n",
    "---\n",
    "\n",
    "Quartile 1 (Q1) can be called the **25th** percentile \n",
    "\n",
    "Quartile 2 (Q2) can be called the **50th** percentile \n",
    "\n",
    "Quartile 3 (Q3) can be called the **75th** percentile\n",
    "\n",
    "![](Image/percentile.png)"
   ]
  },
  {
   "cell_type": "markdown",
   "metadata": {},
   "source": [
    "# How to get Percentile in Python?\n",
    "\n",
    "With `numpy.percentile()` method we can get the percentile values of an array.\n",
    "\n",
    "`numpy.percentile(a, q)`\n",
    "\n",
    "Where:\n",
    "    \n",
    "- a is the array\n",
    "\n",
    "- q is sequence of percentiles to compute, which must be between 0 and 100 inclusive.\n",
    "\n",
    "Therefore, for P25 (q = 25), for P50 (q = 50), and for P75 (q = 75)"
   ]
  },
  {
   "cell_type": "markdown",
   "metadata": {},
   "source": [
    "# Example 2\n",
    "\n",
    "Mr Afwerki, a Tigrinya, has a hen that lays ten eggs. Each egg was weighed and recorded in gramms (g) as follows:\n",
    "\n",
    "59, 56, 61, 68, 52, 53, 69, 54, 57, 51.\n",
    "\n",
    "Calculate the 75th percentile of the weight of the egg using Python.\n",
    "\n",
    "# Solution\n",
    "\n",
    "In this case, q will be 75. Since we are looking for the 75th percentile."
   ]
  },
  {
   "cell_type": "code",
   "execution_count": null,
   "metadata": {},
   "outputs": [],
   "source": [
    "eggs = np.array([59, 56, 61, 68, 52, 53, 69, 54, 57, 51])\n",
    "\n",
    "\n",
    "np.percentile(a = eggs, q = 75)"
   ]
  },
  {
   "cell_type": "markdown",
   "metadata": {},
   "source": [
    "Therefore, the 75th percentile is 60.5. This means that that 75 percent of the eggs are lower than 60.5g."
   ]
  },
  {
   "cell_type": "markdown",
   "metadata": {},
   "source": [
    "# Introduction to five number summary\n",
    "\n",
    "The five-number summary in statistics is a set of descriptive statistics that provides information about a dataset. It consists of the five most important basic statistics:\n",
    "\n",
    "- the minimum (smallest observation)\n",
    "\n",
    "- the lower quartile or first quartile\n",
    "\n",
    "- the median (the middle value)\n",
    "\n",
    "- the upper quartile or third quartile\n",
    "\n",
    "- the maximum (largest observation)"
   ]
  },
  {
   "cell_type": "markdown",
   "metadata": {},
   "source": [
    "## A boxplot\n",
    "\n",
    "A boxplot can be used to show or represnt the five number summary\n",
    "\n",
    "\n",
    "![image.png](Image/m11.png)\n",
    "\n",
    "Vertical postion\n",
    "\n",
    "![image.png](Image/m12.png)\n",
    "\n",
    "Horizontal position"
   ]
  },
  {
   "cell_type": "markdown",
   "metadata": {},
   "source": [
    "# Example"
   ]
  },
  {
   "cell_type": "code",
   "execution_count": null,
   "metadata": {},
   "outputs": [],
   "source": [
    "eggs = np.array([59, 56, 61, 68, 52, 53, 69, 54, 57, 51])\n",
    "\n",
    "# Creating plot \n",
    "\n",
    "# We will use boxplot in Matplotlib library to plot this\n",
    "\n",
    "plt.boxplot(eggs)\n",
    "plt.title(\"A box-and-whiskers plot\");"
   ]
  },
  {
   "cell_type": "markdown",
   "metadata": {},
   "source": [
    "# Group work (A teacher guided question)\n",
    "\n",
    "The life expectancy for a person living in one of the 54 countries in Africa in the year 2020 is in the dataset name \"Africa life expectancy\". The data is from https://www.indexmundi.com/map/?v=30&r=af&l=en. \n",
    "\n",
    "\n",
    "1. Import the data as life_expectancy. Note: The data is in the datasets directory.\n",
    "\n",
    "1. What is the life expectancy for your own country?\n",
    "\n",
    "1. Find the five-number summary for Life expectancy at birth and the IQR in the dataset\n",
    "\n",
    "1. Draw a box-and-whiskers plot."
   ]
  },
  {
   "cell_type": "markdown",
   "metadata": {},
   "source": [
    "# Solution\n",
    "\n",
    "We need to import various packages that will be needed for this assignment."
   ]
  },
  {
   "cell_type": "code",
   "execution_count": 1,
   "metadata": {},
   "outputs": [],
   "source": [
    "import numpy as np\n",
    "\n",
    "import pandas as pd\n",
    "\n",
    "import seaborn as sns\n",
    "\n",
    "import matplotlib.pyplot as plt\n",
    "\n",
    "import seaborn as sns"
   ]
  },
  {
   "cell_type": "markdown",
   "metadata": {},
   "source": [
    "# Solution 1"
   ]
  },
  {
   "cell_type": "code",
   "execution_count": 2,
   "metadata": {},
   "outputs": [],
   "source": [
    "life_expectancy = pd.read_csv(\"datasets/Africa life expectancy.csv\")"
   ]
  },
  {
   "cell_type": "code",
   "execution_count": null,
   "metadata": {},
   "outputs": [],
   "source": [
    "life_expectancy.head()"
   ]
  },
  {
   "cell_type": "markdown",
   "metadata": {},
   "source": [
    "# Solution 2\n",
    "\n",
    "I am from Ethiopia. Therefore, I will check for my country."
   ]
  },
  {
   "cell_type": "code",
   "execution_count": null,
   "metadata": {},
   "outputs": [],
   "source": [
    "life_expectancy[life_expectancy[\"Country\"]== \"Ethiopia\"]"
   ]
  },
  {
   "cell_type": "markdown",
   "metadata": {},
   "source": [
    "# Solution 3\n",
    "\n",
    "The five number summary are minimum (min), first quartile, median, third quartile, and maximum (max). In this case, we will use `.describe()` attribute.\n",
    "\n",
    "We will select Life expectancy at birth (years) column and then apply `.describe()` attribute on it."
   ]
  },
  {
   "cell_type": "code",
   "execution_count": null,
   "metadata": {},
   "outputs": [],
   "source": [
    "life_expectancy[\"Life expectancy at birth (years)\"].describe()"
   ]
  },
  {
   "cell_type": "markdown",
   "metadata": {},
   "source": [
    "---\n",
    "The five number summary for the life expectancy are:\n",
    "    \n",
    "Min = 53\n",
    "\n",
    "First quartile = 61\n",
    "\n",
    "Median = 65\n",
    "\n",
    "Third quartile = 67\n",
    "\n",
    "Max = 78"
   ]
  },
  {
   "cell_type": "markdown",
   "metadata": {},
   "source": [
    "# Solution 4"
   ]
  },
  {
   "cell_type": "markdown",
   "metadata": {},
   "source": [
    "We can use seaborn package to draw boxplot"
   ]
  },
  {
   "cell_type": "code",
   "execution_count": null,
   "metadata": {},
   "outputs": [],
   "source": [
    "sns.boxplot(y = \"Life expectancy at birth (years)\", data = life_expectancy);"
   ]
  },
  {
   "cell_type": "markdown",
   "metadata": {},
   "source": [
    "# Correlation analysis"
   ]
  },
  {
   "cell_type": "markdown",
   "metadata": {},
   "source": [
    "Correlation measures the strength and direction of the statistical linear relationship between two or more variables in the data. For example, you may want to measure the correlation between height and weight of women in Uganda. We can measure the degree of correlation by using Pearson correlation coefficient. For example, if X and Y are continuous variables, then the correlation between X and Y is given by the formula:\n",
    "\n",
    "$r = \\frac{n \\sum xy - \\sum x \\sum y}{\\sqrt{n \\sum x^2 - \\big(\\sum x\\big)^2} \\times \\sqrt{ n \\sum y^2 - \\big(\\sum y\\big)^2}}$\n",
    "\n",
    "where:\n",
    "\n",
    "r = Pearson r correlation coefficient between x and y\n",
    "\n",
    "n = number of observations\n",
    "\n",
    "xi – the values of the x-variable in a sample\n",
    "\n",
    "yi – the values of the y-variable in a sample\n",
    "\n",
    "\n",
    "\n",
    "\n",
    "# Tips\n",
    "\n",
    "\n",
    "Just sum up $x$, $y$, $x^2$, $y^2$ and $xy$ then use the formula above.\n",
    "\n",
    " Pearson r correlation coefficient is also known as product moment correlation\n",
    "\n",
    "\n",
    "\n",
    "The correlation coefficient (r) can take any values from -1 to 1. The interpretations of the values are:\n",
    "\n",
    "$-1$: Perfect negative correlation. The variables tend to move in opposite directions (i.e., when one variable increases, the other variable decreases).\n",
    "\n",
    "\n",
    "$0$: No correlation. The variables do not have a relationship with each other.\n",
    "\n",
    "\n",
    "$1$: Perfect positive correlation. The variables tend to move in the same direction (i.e., when one variable increases, the other variable also increases).\n",
    "\n",
    "\n",
    "\n",
    "Positive correlation is a relationship between two variables in which both variables move in the same direction. This is when one variable increases while the other increases and visa versa.\n",
    "\n",
    "\n",
    "![](Image/Corr1.png)"
   ]
  },
  {
   "cell_type": "markdown",
   "metadata": {},
   "source": [
    "# Tips\n",
    "\n",
    "Correlation measures the strength and direction of the linear relationship between two variables. It cannot capture nonlinear relationships between two variables and cannot differentiate between dependent and independent variables."
   ]
  },
  {
   "cell_type": "markdown",
   "metadata": {},
   "source": [
    "# How to get correlation in Python?\n",
    "\n",
    "Python uses `df.corr()` pandas attribute to estimate the correlation between or among the pairs of continuos variables in the DataFrame."
   ]
  },
  {
   "cell_type": "markdown",
   "metadata": {},
   "source": [
    "# Scatter diagrams\n",
    "\n",
    "To examine whether there is a correlation between two quantitative variables, you will need to first plot a scatter diagram. The scatter diagram assess the relationship between the variables and determine whether they are correlated or not."
   ]
  },
  {
   "cell_type": "markdown",
   "metadata": {},
   "source": [
    "# Example 1\n",
    "\n",
    "Import `Uganda_women.csv` dataset which contains the height and weight of 300 Ugandan women. The data is in the `datasets` directory.\n",
    "\n",
    "1. Plot a scatter diagram of height against weight and examine the correlation\n",
    "\n",
    "2. Calculate Pearson correlation coefficient between height and weight of Ugandan women"
   ]
  },
  {
   "cell_type": "markdown",
   "metadata": {},
   "source": [
    "# Solution 1\n",
    "\n",
    "Let's import all the necessary packages:"
   ]
  },
  {
   "cell_type": "code",
   "execution_count": 3,
   "metadata": {},
   "outputs": [],
   "source": [
    "import numpy as np\n",
    "\n",
    "import pandas as pd\n",
    "\n",
    "import matplotlib.pyplot as plt\n",
    "\n",
    "import seaborn as sns"
   ]
  },
  {
   "cell_type": "markdown",
   "metadata": {},
   "source": [
    "We need to import Somalia women dataset and then use Seaborn package to plot the scatter diagram of height and weight. "
   ]
  },
  {
   "cell_type": "code",
   "execution_count": 4,
   "metadata": {},
   "outputs": [],
   "source": [
    "uganda_women = pd.read_csv(\"datasets/Ugandan_women.csv\")"
   ]
  },
  {
   "cell_type": "markdown",
   "metadata": {},
   "source": [
    "Let us examine the dataset by using `.head()`, `.tail()`, and `.shape` attributes"
   ]
  },
  {
   "cell_type": "code",
   "execution_count": 5,
   "metadata": {},
   "outputs": [
    {
     "data": {
      "text/html": [
       "<div>\n",
       "<style scoped>\n",
       "    .dataframe tbody tr th:only-of-type {\n",
       "        vertical-align: middle;\n",
       "    }\n",
       "\n",
       "    .dataframe tbody tr th {\n",
       "        vertical-align: top;\n",
       "    }\n",
       "\n",
       "    .dataframe thead th {\n",
       "        text-align: right;\n",
       "    }\n",
       "</style>\n",
       "<table border=\"1\" class=\"dataframe\">\n",
       "  <thead>\n",
       "    <tr style=\"text-align: right;\">\n",
       "      <th></th>\n",
       "      <th>height</th>\n",
       "      <th>weight</th>\n",
       "    </tr>\n",
       "  </thead>\n",
       "  <tbody>\n",
       "    <tr>\n",
       "      <th>0</th>\n",
       "      <td>63</td>\n",
       "      <td>129</td>\n",
       "    </tr>\n",
       "    <tr>\n",
       "      <th>1</th>\n",
       "      <td>69</td>\n",
       "      <td>150</td>\n",
       "    </tr>\n",
       "    <tr>\n",
       "      <th>2</th>\n",
       "      <td>71</td>\n",
       "      <td>159</td>\n",
       "    </tr>\n",
       "    <tr>\n",
       "      <th>3</th>\n",
       "      <td>68</td>\n",
       "      <td>146</td>\n",
       "    </tr>\n",
       "    <tr>\n",
       "      <th>4</th>\n",
       "      <td>58</td>\n",
       "      <td>115</td>\n",
       "    </tr>\n",
       "  </tbody>\n",
       "</table>\n",
       "</div>"
      ],
      "text/plain": [
       "   height  weight\n",
       "0      63     129\n",
       "1      69     150\n",
       "2      71     159\n",
       "3      68     146\n",
       "4      58     115"
      ]
     },
     "execution_count": 5,
     "metadata": {},
     "output_type": "execute_result"
    }
   ],
   "source": [
    "uganda_women.head()"
   ]
  },
  {
   "cell_type": "code",
   "execution_count": 6,
   "metadata": {},
   "outputs": [
    {
     "data": {
      "text/html": [
       "<div>\n",
       "<style scoped>\n",
       "    .dataframe tbody tr th:only-of-type {\n",
       "        vertical-align: middle;\n",
       "    }\n",
       "\n",
       "    .dataframe tbody tr th {\n",
       "        vertical-align: top;\n",
       "    }\n",
       "\n",
       "    .dataframe thead th {\n",
       "        text-align: right;\n",
       "    }\n",
       "</style>\n",
       "<table border=\"1\" class=\"dataframe\">\n",
       "  <thead>\n",
       "    <tr style=\"text-align: right;\">\n",
       "      <th></th>\n",
       "      <th>height</th>\n",
       "      <th>weight</th>\n",
       "    </tr>\n",
       "  </thead>\n",
       "  <tbody>\n",
       "    <tr>\n",
       "      <th>295</th>\n",
       "      <td>65</td>\n",
       "      <td>135</td>\n",
       "    </tr>\n",
       "    <tr>\n",
       "      <th>296</th>\n",
       "      <td>62</td>\n",
       "      <td>126</td>\n",
       "    </tr>\n",
       "    <tr>\n",
       "      <th>297</th>\n",
       "      <td>66</td>\n",
       "      <td>139</td>\n",
       "    </tr>\n",
       "    <tr>\n",
       "      <th>298</th>\n",
       "      <td>58</td>\n",
       "      <td>115</td>\n",
       "    </tr>\n",
       "    <tr>\n",
       "      <th>299</th>\n",
       "      <td>58</td>\n",
       "      <td>115</td>\n",
       "    </tr>\n",
       "  </tbody>\n",
       "</table>\n",
       "</div>"
      ],
      "text/plain": [
       "     height  weight\n",
       "295      65     135\n",
       "296      62     126\n",
       "297      66     139\n",
       "298      58     115\n",
       "299      58     115"
      ]
     },
     "execution_count": 6,
     "metadata": {},
     "output_type": "execute_result"
    }
   ],
   "source": [
    "uganda_women.tail()"
   ]
  },
  {
   "cell_type": "code",
   "execution_count": 7,
   "metadata": {},
   "outputs": [
    {
     "data": {
      "text/plain": [
       "(300, 2)"
      ]
     },
     "execution_count": 7,
     "metadata": {},
     "output_type": "execute_result"
    }
   ],
   "source": [
    "uganda_women.shape"
   ]
  },
  {
   "cell_type": "markdown",
   "metadata": {},
   "source": [
    "We now plot the scatter diagram using Seaborn `sns.scatterplot()` function."
   ]
  },
  {
   "cell_type": "code",
   "execution_count": 8,
   "metadata": {},
   "outputs": [
    {
     "data": {
      "image/png": "[encoded data removed]",
      "text/plain": [
       "<Figure size 432x288 with 1 Axes>"
      ]
     },
     "metadata": {
      "needs_background": "light"
     },
     "output_type": "display_data"
    }
   ],
   "source": [
    "sns.scatterplot(y = \"height\", x = \"weight\", data = uganda_women);"
   ]
  },
  {
   "cell_type": "markdown",
   "metadata": {},
   "source": [
    "We can also use  `sns.relplot()` function from Seaborn to plot the scatter diagram."
   ]
  },
  {
   "cell_type": "code",
   "execution_count": 9,
   "metadata": {},
   "outputs": [
    {
     "data": {
      "image/png": "[encoded data removed]",
      "text/plain": [
       "<Figure size 360x360 with 1 Axes>"
      ]
     },
     "metadata": {
      "needs_background": "light"
     },
     "output_type": "display_data"
    }
   ],
   "source": [
    "sns.relplot(y = \"height\", x = \"weight\", data = uganda_women);"
   ]
  },
  {
   "cell_type": "markdown",
   "metadata": {},
   "source": [
    "As you can see, there seem to be a very strong positive correlation between height and weight of Ugandan women"
   ]
  },
  {
   "cell_type": "markdown",
   "metadata": {},
   "source": [
    "# Solution 2"
   ]
  },
  {
   "cell_type": "markdown",
   "metadata": {},
   "source": [
    "We can get estimate of Pearson correlation coefficient by using `uganda_women.corr()`."
   ]
  },
  {
   "cell_type": "code",
   "execution_count": 10,
   "metadata": {},
   "outputs": [
    {
     "data": {
      "text/html": [
       "<div>\n",
       "<style scoped>\n",
       "    .dataframe tbody tr th:only-of-type {\n",
       "        vertical-align: middle;\n",
       "    }\n",
       "\n",
       "    .dataframe tbody tr th {\n",
       "        vertical-align: top;\n",
       "    }\n",
       "\n",
       "    .dataframe thead th {\n",
       "        text-align: right;\n",
       "    }\n",
       "</style>\n",
       "<table border=\"1\" class=\"dataframe\">\n",
       "  <thead>\n",
       "    <tr style=\"text-align: right;\">\n",
       "      <th></th>\n",
       "      <th>height</th>\n",
       "      <th>weight</th>\n",
       "    </tr>\n",
       "  </thead>\n",
       "  <tbody>\n",
       "    <tr>\n",
       "      <th>height</th>\n",
       "      <td>1.000000</td>\n",
       "      <td>0.995623</td>\n",
       "    </tr>\n",
       "    <tr>\n",
       "      <th>weight</th>\n",
       "      <td>0.995623</td>\n",
       "      <td>1.000000</td>\n",
       "    </tr>\n",
       "  </tbody>\n",
       "</table>\n",
       "</div>"
      ],
      "text/plain": [
       "          height    weight\n",
       "height  1.000000  0.995623\n",
       "weight  0.995623  1.000000"
      ]
     },
     "execution_count": 10,
     "metadata": {},
     "output_type": "execute_result"
    }
   ],
   "source": [
    "uganda_women.corr()"
   ]
  },
  {
   "cell_type": "markdown",
   "metadata": {},
   "source": [
    "This is a result of the pearson correlation. We will see that correlation on the same variable will always be 1. Our concern is to look at the correlation between height and weight.\n",
    "\n",
    "Therefore, the correlation between height and weight is 0.9956."
   ]
  },
  {
   "cell_type": "markdown",
   "metadata": {},
   "source": [
    "# Example 2\n",
    "\n",
    "This dataset is from a restaurant in Nairobi, Kenya, where many come to eat food and after eating based on a total bill they hate paid some tips. The following are the variables in the tips dataset:\n",
    "\n",
    "`total_bill`: Cost of the meal in Kenya Shilling\n",
    "\n",
    "`tip`: Gratuity in Kenya Shilling\n",
    "\n",
    "`gender`: Sex of person paying for the meal\n",
    "\n",
    "`smoker`: Whether they smoke in the party or not\n",
    "\n",
    "`day`: Day of the week for the party\n",
    "\n",
    "`time`: Time of the day whether for lunch or dinner\n",
    "\n",
    "`size`: Size of the party\n",
    "\n",
    "1. Import the tip dataset as `tips` (this is in the datasets folder)\n",
    "\n",
    "2. Calculate the pairwise correlation among the continuous variables in the data\n",
    "\n",
    "3. Visualize by using scatter diagram"
   ]
  },
  {
   "cell_type": "markdown",
   "metadata": {},
   "source": [
    "# Solution 1"
   ]
  },
  {
   "cell_type": "code",
   "execution_count": 11,
   "metadata": {},
   "outputs": [],
   "source": [
    "tips = pd.read_csv(\"datasets/tips.csv\")"
   ]
  },
  {
   "cell_type": "code",
   "execution_count": 12,
   "metadata": {},
   "outputs": [
    {
     "data": {
      "text/html": [
       "<div>\n",
       "<style scoped>\n",
       "    .dataframe tbody tr th:only-of-type {\n",
       "        vertical-align: middle;\n",
       "    }\n",
       "\n",
       "    .dataframe tbody tr th {\n",
       "        vertical-align: top;\n",
       "    }\n",
       "\n",
       "    .dataframe thead th {\n",
       "        text-align: right;\n",
       "    }\n",
       "</style>\n",
       "<table border=\"1\" class=\"dataframe\">\n",
       "  <thead>\n",
       "    <tr style=\"text-align: right;\">\n",
       "      <th></th>\n",
       "      <th>total_bill</th>\n",
       "      <th>tip</th>\n",
       "      <th>gender</th>\n",
       "      <th>smoker</th>\n",
       "      <th>day</th>\n",
       "      <th>time</th>\n",
       "      <th>size</th>\n",
       "    </tr>\n",
       "  </thead>\n",
       "  <tbody>\n",
       "    <tr>\n",
       "      <th>0</th>\n",
       "      <td>2125.50</td>\n",
       "      <td>360.79</td>\n",
       "      <td>Male</td>\n",
       "      <td>No</td>\n",
       "      <td>Thur</td>\n",
       "      <td>Lunch</td>\n",
       "      <td>1</td>\n",
       "    </tr>\n",
       "    <tr>\n",
       "      <th>1</th>\n",
       "      <td>2727.18</td>\n",
       "      <td>259.42</td>\n",
       "      <td>Female</td>\n",
       "      <td>No</td>\n",
       "      <td>Sun</td>\n",
       "      <td>Dinner</td>\n",
       "      <td>5</td>\n",
       "    </tr>\n",
       "    <tr>\n",
       "      <th>2</th>\n",
       "      <td>1066.02</td>\n",
       "      <td>274.68</td>\n",
       "      <td>Female</td>\n",
       "      <td>Yes</td>\n",
       "      <td>Thur</td>\n",
       "      <td>Dinner</td>\n",
       "      <td>4</td>\n",
       "    </tr>\n",
       "    <tr>\n",
       "      <th>3</th>\n",
       "      <td>3493.45</td>\n",
       "      <td>337.90</td>\n",
       "      <td>Female</td>\n",
       "      <td>No</td>\n",
       "      <td>Sun</td>\n",
       "      <td>Dinner</td>\n",
       "      <td>1</td>\n",
       "    </tr>\n",
       "    <tr>\n",
       "      <th>4</th>\n",
       "      <td>3470.56</td>\n",
       "      <td>567.89</td>\n",
       "      <td>Male</td>\n",
       "      <td>Yes</td>\n",
       "      <td>Sun</td>\n",
       "      <td>Lunch</td>\n",
       "      <td>6</td>\n",
       "    </tr>\n",
       "  </tbody>\n",
       "</table>\n",
       "</div>"
      ],
      "text/plain": [
       "   total_bill     tip  gender smoker   day    time  size\n",
       "0     2125.50  360.79    Male     No  Thur   Lunch     1\n",
       "1     2727.18  259.42  Female     No   Sun  Dinner     5\n",
       "2     1066.02  274.68  Female    Yes  Thur  Dinner     4\n",
       "3     3493.45  337.90  Female     No   Sun  Dinner     1\n",
       "4     3470.56  567.89    Male    Yes   Sun   Lunch     6"
      ]
     },
     "execution_count": 12,
     "metadata": {},
     "output_type": "execute_result"
    }
   ],
   "source": [
    "tips.head()"
   ]
  },
  {
   "cell_type": "markdown",
   "metadata": {},
   "source": [
    "# Solution 2\n",
    "\n",
    "To get the pairwise correlation among the continuous variables in the data, we use `tips.corr()`"
   ]
  },
  {
   "cell_type": "code",
   "execution_count": 13,
   "metadata": {},
   "outputs": [
    {
     "data": {
      "text/html": [
       "<div>\n",
       "<style scoped>\n",
       "    .dataframe tbody tr th:only-of-type {\n",
       "        vertical-align: middle;\n",
       "    }\n",
       "\n",
       "    .dataframe tbody tr th {\n",
       "        vertical-align: top;\n",
       "    }\n",
       "\n",
       "    .dataframe thead th {\n",
       "        text-align: right;\n",
       "    }\n",
       "</style>\n",
       "<table border=\"1\" class=\"dataframe\">\n",
       "  <thead>\n",
       "    <tr style=\"text-align: right;\">\n",
       "      <th></th>\n",
       "      <th>total_bill</th>\n",
       "      <th>tip</th>\n",
       "      <th>size</th>\n",
       "    </tr>\n",
       "  </thead>\n",
       "  <tbody>\n",
       "    <tr>\n",
       "      <th>total_bill</th>\n",
       "      <td>1.000000</td>\n",
       "      <td>0.214756</td>\n",
       "      <td>0.096942</td>\n",
       "    </tr>\n",
       "    <tr>\n",
       "      <th>tip</th>\n",
       "      <td>0.214756</td>\n",
       "      <td>1.000000</td>\n",
       "      <td>0.090766</td>\n",
       "    </tr>\n",
       "    <tr>\n",
       "      <th>size</th>\n",
       "      <td>0.096942</td>\n",
       "      <td>0.090766</td>\n",
       "      <td>1.000000</td>\n",
       "    </tr>\n",
       "  </tbody>\n",
       "</table>\n",
       "</div>"
      ],
      "text/plain": [
       "            total_bill       tip      size\n",
       "total_bill    1.000000  0.214756  0.096942\n",
       "tip           0.214756  1.000000  0.090766\n",
       "size          0.096942  0.090766  1.000000"
      ]
     },
     "execution_count": 13,
     "metadata": {},
     "output_type": "execute_result"
    }
   ],
   "source": [
    "tips.corr()"
   ]
  },
  {
   "cell_type": "markdown",
   "metadata": {},
   "source": [
    "# Solution 3"
   ]
  },
  {
   "cell_type": "markdown",
   "metadata": {},
   "source": [
    "We can plot the scatter diagram between:\n",
    "    \n",
    "- `tip` and `total_bill`\n",
    "\n",
    "- `tip` and `size`"
   ]
  },
  {
   "cell_type": "markdown",
   "metadata": {},
   "source": [
    "## `tip` and `total_bill` scatter diagram"
   ]
  },
  {
   "cell_type": "code",
   "execution_count": 14,
   "metadata": {},
   "outputs": [
    {
     "data": {
      "image/png": "[encoded data removed]",
      "text/plain": [
       "<Figure size 360x360 with 1 Axes>"
      ]
     },
     "metadata": {
      "needs_background": "light"
     },
     "output_type": "display_data"
    }
   ],
   "source": [
    "sns.relplot(y = \"tip\", x = \"total_bill\", data = tips);"
   ]
  },
  {
   "cell_type": "markdown",
   "metadata": {},
   "source": [
    "There is a low positive ($r = 0.214756$) linear correlation between tip and total bill."
   ]
  },
  {
   "cell_type": "markdown",
   "metadata": {},
   "source": [
    "## `tip` and `size` scatter diagram"
   ]
  },
  {
   "cell_type": "code",
   "execution_count": 15,
   "metadata": {},
   "outputs": [
    {
     "data": {
      "image/png": "[encoded data removed]",
      "text/plain": [
       "<Figure size 360x360 with 1 Axes>"
      ]
     },
     "metadata": {
      "needs_background": "light"
     },
     "output_type": "display_data"
    }
   ],
   "source": [
    "sns.relplot(y = \"tip\", x = \"size\", data = tips);"
   ]
  },
  {
   "cell_type": "markdown",
   "metadata": {},
   "source": [
    "As you can see, there is no linear relationship between tip and size of the party. This diagram looks like that because size of the party is a categorical variable i.e. it has a limited values."
   ]
  },
  {
   "cell_type": "markdown",
   "metadata": {},
   "source": [
    "# Class activity\n",
    "\n",
    "The palmer penguins data contains size measurements for three penguin species observed on three islands in the Palmer Archipelago, Antarctica.\n",
    "\n",
    "1. Import the necessary libraries\n",
    "\n",
    "2. Import penguins dataset. Note that this dataset is in the `activity_datasets` directory.\n",
    "\n",
    "3. Create a pairwise correlation coefficient for all the continuous variables in the dataset\n",
    "\n",
    "4. Plot a scatter diagram with the x axis as bill_length_mm and y axis as flipper_length_mm by using sns.scatter() function\n"
   ]
  },
  {
   "cell_type": "markdown",
   "metadata": {},
   "source": [
    "# Correlation and Causation\n",
    "\n",
    "Correlation must not be confused with causality. The famous expression “correlation does not mean causation” is crucial to the understanding of the two statistical concepts.\n",
    "\n",
    "If two variables are correlated, it does not imply that one variable causes the changes in another variable. Correlation only assesses relationships between variables, and there may be different factors that lead to the relationships. Causation may be a reason for the correlation, but it is not the only possible explanation."
   ]
  }
 ],
 "metadata": {
  "anaconda-cloud": {},
  "kernelspec": {
   "display_name": "Python 3 (ipykernel)",
   "language": "python",
   "name": "python3"
  },
  "language_info": {
   "codemirror_mode": {
    "name": "ipython",
    "version": 3
   },
   "file_extension": ".py",
   "mimetype": "text/x-python",
   "name": "python",
   "nbconvert_exporter": "python",
   "pygments_lexer": "ipython3",
   "version": "3.11.3"
  }
 },
 "nbformat": 4,
 "nbformat_minor": 4
}
