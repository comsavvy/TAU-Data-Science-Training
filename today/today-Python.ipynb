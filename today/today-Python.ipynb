{
  "nbformat": 4,
  "nbformat_minor": 0,
  "metadata": {
    "colab": {
      "provenance": []
    },
    "kernelspec": {
      "name": "python3",
      "display_name": "Python 3"
    },
    "language_info": {
      "name": "python"
    }
  },
  "cells": [
    {
      "cell_type": "markdown",
      "source": [
        "# Overview"
      ],
      "metadata": {
        "id": "HCDBaeoSOk-K"
      }
    },
    {
      "cell_type": "markdown",
      "source": [
        "## This notebook will cover the fundamental concepts of the Python programming language, including interactive examples and exercises."
      ],
      "metadata": {
        "id": "S6QFKcEeX-X7"
      }
    },
    {
      "cell_type": "markdown",
      "source": [
        "# Introduction to Python"
      ],
      "metadata": {
        "id": "3qtpeDLQYMZ3"
      }
    },
    {
      "cell_type": "markdown",
      "source": [
        "- INTRO\n",
        "    - What's python?\n",
        "    - Brief history\n",
        "    - What can we do with python?\n",
        "\n",
        "- Data Types\n",
        "    - Numbers\n",
        "        - Int\n",
        "        - Float\n",
        "    - String (show string methods)\n",
        "    - Boolean\n",
        "\n",
        "- Data structures\n",
        "    - Collections\n",
        "        - Lists (comprehensions..)\n",
        "        - Tuples\n",
        "        - Dictionaries\n",
        "        - Sets\n",
        "\n",
        "\n",
        "https://colab.research.google.com/github/cs231n/cs231n.github.io/blob/master/python-colab.ipynb#scrollTo=w-nZ0Sg_L9e9\n",
        "\n",
        "https://colab.research.google.com/github/data-psl/lectures2020/blob/master/notebooks/01_python_basics.ipynb#scrollTo=3EKvP6jiMZ9H\n",
        "\n"
      ],
      "metadata": {
        "id": "KZbsC8a9v30n"
      }
    },
    {
      "cell_type": "markdown",
      "source": [
        "# - High level, Interpreted, general-purpose programming language\n",
        "# - Created by Guido van Rossum and first released in 1991.\n",
        "# - Widely used among the data science community\n"
      ],
      "metadata": {
        "id": "Fx1Gh40iXca-"
      }
    },
    {
      "cell_type": "markdown",
      "source": [
        "## Running your first program"
      ],
      "metadata": {
        "id": "UxTNmllcHiZp"
      }
    },
    {
      "cell_type": "code",
      "source": [
        "print(\"Hello, AI-General-Assembly!\")"
      ],
      "metadata": {
        "id": "4rnMkdHvwkfo"
      },
      "execution_count": null,
      "outputs": []
    },
    {
      "cell_type": "markdown",
      "source": [
        "## Making inline comments"
      ],
      "metadata": {
        "id": "2R0_L-mlHJoC"
      }
    },
    {
      "cell_type": "code",
      "source": [
        "# print(\"Hello,  AI-General-Assembly!\")"
      ],
      "metadata": {
        "id": "bLfvvr-jxryc"
      },
      "execution_count": null,
      "outputs": []
    },
    {
      "cell_type": "markdown",
      "source": [
        "## Data Types"
      ],
      "metadata": {
        "id": "K2fexbhUOYgJ"
      }
    },
    {
      "cell_type": "markdown",
      "source": [
        "### Numbers"
      ],
      "metadata": {
        "id": "63EEJrRQxB24"
      }
    },
    {
      "cell_type": "code",
      "source": [
        "x = 5\n",
        "y = x\n",
        "print(y)"
      ],
      "metadata": {
        "id": "FgzAbi4UOr5A",
        "colab": {
          "base_uri": "https://localhost:8080/"
        },
        "outputId": "1a655a77-c192-4dba-d930-c0a9c405317b"
      },
      "execution_count": null,
      "outputs": [
        {
          "output_type": "stream",
          "name": "stdout",
          "text": [
            "5\n"
          ]
        }
      ]
    },
    {
      "cell_type": "code",
      "source": [],
      "metadata": {
        "id": "FKoe1ugYay_m"
      },
      "execution_count": null,
      "outputs": []
    },
    {
      "cell_type": "code",
      "source": [
        "print(type(x))"
      ],
      "metadata": {
        "id": "sbWg8nV-pdy-",
        "colab": {
          "base_uri": "https://localhost:8080/"
        },
        "outputId": "4c47ac0a-2a78-4e02-e3e2-609e794c2318"
      },
      "execution_count": null,
      "outputs": [
        {
          "output_type": "stream",
          "name": "stdout",
          "text": [
            "<class 'int'>\n"
          ]
        }
      ]
    },
    {
      "cell_type": "code",
      "source": [
        "x = 2\n",
        "print(x)"
      ],
      "metadata": {
        "id": "EvpqXMn7xIqi",
        "colab": {
          "base_uri": "https://localhost:8080/"
        },
        "outputId": "41a30821-dcbb-49ee-cbe5-d63469bb77f9"
      },
      "execution_count": null,
      "outputs": [
        {
          "output_type": "stream",
          "name": "stdout",
          "text": [
            "2\n"
          ]
        }
      ]
    },
    {
      "cell_type": "code",
      "source": [
        "print(type(x))"
      ],
      "metadata": {
        "id": "XUzpK3RgxMYG",
        "colab": {
          "base_uri": "https://localhost:8080/"
        },
        "outputId": "69895344-720b-450c-d14b-0fa244b1d662"
      },
      "execution_count": null,
      "outputs": [
        {
          "output_type": "stream",
          "name": "stdout",
          "text": [
            "<class 'int'>\n"
          ]
        }
      ]
    },
    {
      "cell_type": "markdown",
      "source": [
        "### Basic Arithmetics"
      ],
      "metadata": {
        "id": "BfNWCfScxUa0"
      }
    },
    {
      "cell_type": "code",
      "source": [
        "a = 10\n",
        "b = 5\n",
        "print(a + b) # Addition\n",
        "print(a - b) # Subtraction\n",
        "print(a * b) # Multiplication\n",
        "print(a / b) # Division\n",
        "print(a ** b) # Exponentiation"
      ],
      "metadata": {
        "id": "kOXl3o-MxY-t",
        "colab": {
          "base_uri": "https://localhost:8080/"
        },
        "outputId": "7837f1ec-9e46-46c4-c867-349c663627af"
      },
      "execution_count": null,
      "outputs": [
        {
          "output_type": "stream",
          "name": "stdout",
          "text": [
            "15\n",
            "5\n",
            "50\n",
            "2.0\n",
            "100000\n"
          ]
        }
      ]
    },
    {
      "cell_type": "markdown",
      "source": [
        "### Booleans"
      ],
      "metadata": {
        "id": "CcZ9lNjaxgn-"
      }
    },
    {
      "cell_type": "code",
      "source": [
        "x = True\n",
        "print(type(x))"
      ],
      "metadata": {
        "colab": {
          "base_uri": "https://localhost:8080/"
        },
        "id": "q4_eCGdmyF1S",
        "outputId": "600055c2-ec4c-4cb5-dcc2-a61158a72cf6"
      },
      "execution_count": null,
      "outputs": [
        {
          "output_type": "stream",
          "name": "stdout",
          "text": [
            "<class 'bool'>\n"
          ]
        }
      ]
    },
    {
      "cell_type": "code",
      "source": [
        "y = False\n",
        "print(y)"
      ],
      "metadata": {
        "id": "E386s7Ya8TZo",
        "colab": {
          "base_uri": "https://localhost:8080/"
        },
        "outputId": "f8303fda-a3e3-44d1-dd28-d14f195b9582"
      },
      "execution_count": null,
      "outputs": [
        {
          "output_type": "stream",
          "name": "stdout",
          "text": [
            "False\n"
          ]
        }
      ]
    },
    {
      "cell_type": "code",
      "source": [
        "print(x == y)\n",
        "print(x != y)"
      ],
      "metadata": {
        "id": "llg-VeB-MRd4",
        "colab": {
          "base_uri": "https://localhost:8080/"
        },
        "outputId": "5d7ff735-3095-45bd-84c9-55981b5fc67f"
      },
      "execution_count": null,
      "outputs": [
        {
          "output_type": "stream",
          "name": "stdout",
          "text": [
            "False\n",
            "True\n"
          ]
        }
      ]
    },
    {
      "cell_type": "code",
      "source": [
        "print(not x)"
      ],
      "metadata": {
        "id": "nz6m8kJZMUXy",
        "colab": {
          "base_uri": "https://localhost:8080/"
        },
        "outputId": "f22013b2-7ec6-499d-bd7a-9506bd07ef9e"
      },
      "execution_count": null,
      "outputs": [
        {
          "output_type": "stream",
          "name": "stdout",
          "text": [
            "False\n"
          ]
        }
      ]
    },
    {
      "cell_type": "code",
      "source": [
        "print(not y)"
      ],
      "metadata": {
        "id": "MuUbru-cMec2",
        "colab": {
          "base_uri": "https://localhost:8080/"
        },
        "outputId": "c28ebfe9-87ad-4e9b-95e0-fb672daeee94"
      },
      "execution_count": null,
      "outputs": [
        {
          "output_type": "stream",
          "name": "stdout",
          "text": [
            "True\n"
          ]
        }
      ]
    },
    {
      "cell_type": "code",
      "source": [
        "print(x and y)"
      ],
      "metadata": {
        "id": "jvprCrx9MfTy",
        "colab": {
          "base_uri": "https://localhost:8080/"
        },
        "outputId": "33137b3a-8a56-444f-cbaa-52726e471da9"
      },
      "execution_count": null,
      "outputs": [
        {
          "output_type": "stream",
          "name": "stdout",
          "text": [
            "False\n"
          ]
        }
      ]
    },
    {
      "cell_type": "code",
      "source": [
        "print(x or y)"
      ],
      "metadata": {
        "id": "ZPqgz0jlMhls",
        "colab": {
          "base_uri": "https://localhost:8080/"
        },
        "outputId": "3156eef7-a7fc-49cc-9ae0-1116392afbd7"
      },
      "execution_count": null,
      "outputs": [
        {
          "output_type": "stream",
          "name": "stdout",
          "text": [
            "True\n"
          ]
        }
      ]
    },
    {
      "cell_type": "markdown",
      "source": [
        "### Strings"
      ],
      "metadata": {
        "id": "q8tfK4wUMiVf"
      }
    },
    {
      "cell_type": "code",
      "source": [
        "str1 = \"Hello\"\n",
        "str2 = \"awitai\""
      ],
      "metadata": {
        "id": "60208CwaPgL2"
      },
      "execution_count": null,
      "outputs": []
    },
    {
      "cell_type": "code",
      "source": [
        "print(str1)\n",
        "print(str2)"
      ],
      "metadata": {
        "id": "nvkQKU04P43y",
        "colab": {
          "base_uri": "https://localhost:8080/"
        },
        "outputId": "c56f4798-a6e9-49ee-faff-77381ff9cdc5"
      },
      "execution_count": null,
      "outputs": [
        {
          "output_type": "stream",
          "name": "stdout",
          "text": [
            "Hello\n",
            "awitai\n"
          ]
        }
      ]
    },
    {
      "cell_type": "code",
      "source": [
        "print(type(str1))"
      ],
      "metadata": {
        "id": "f62DaKVkP8RM",
        "colab": {
          "base_uri": "https://localhost:8080/"
        },
        "outputId": "d0fa4037-e581-4954-988f-de0d82b31c55"
      },
      "execution_count": null,
      "outputs": [
        {
          "output_type": "stream",
          "name": "stdout",
          "text": [
            "<class 'str'>\n"
          ]
        }
      ]
    },
    {
      "cell_type": "code",
      "source": [
        "print(str1 + str2)"
      ],
      "metadata": {
        "id": "ICTZ8ZGVP-Vh",
        "colab": {
          "base_uri": "https://localhost:8080/"
        },
        "outputId": "a1394961-b438-4de8-b181-57b8ef081183"
      },
      "execution_count": null,
      "outputs": [
        {
          "output_type": "stream",
          "name": "stdout",
          "text": [
            "Helloawitai\n"
          ]
        }
      ]
    },
    {
      "cell_type": "code",
      "source": [
        "print(str1 + \" \" + str2)"
      ],
      "metadata": {
        "id": "n8Cs6ibNQJ8a",
        "colab": {
          "base_uri": "https://localhost:8080/"
        },
        "outputId": "80bb190a-168b-45d4-d83c-9b431257148b"
      },
      "execution_count": null,
      "outputs": [
        {
          "output_type": "stream",
          "name": "stdout",
          "text": [
            "Hello awitai\n"
          ]
        }
      ]
    },
    {
      "cell_type": "code",
      "source": [
        "myname = \"Zineb\"\n",
        "print(f\"Hello {myname}\")"
      ],
      "metadata": {
        "colab": {
          "base_uri": "https://localhost:8080/"
        },
        "id": "VBTjMK3oeMGq",
        "outputId": "fb08d970-468c-4c84-bce2-beb3f1406344"
      },
      "execution_count": null,
      "outputs": [
        {
          "output_type": "stream",
          "name": "stdout",
          "text": [
            "Hello Zineb\n"
          ]
        }
      ]
    },
    {
      "cell_type": "code",
      "source": [
        "print(f\"{str1} {str2}\")"
      ],
      "metadata": {
        "id": "NgaUrLYMQDv7",
        "colab": {
          "base_uri": "https://localhost:8080/"
        },
        "outputId": "5700e0c4-14b3-4b64-f105-611389256b6d"
      },
      "execution_count": null,
      "outputs": [
        {
          "output_type": "stream",
          "name": "stdout",
          "text": [
            "Hello awitai\n"
          ]
        }
      ]
    },
    {
      "cell_type": "code",
      "source": [
        "len(str1)"
      ],
      "metadata": {
        "colab": {
          "base_uri": "https://localhost:8080/"
        },
        "id": "iJwl7PPXeXBC",
        "outputId": "15c2c378-91ac-452b-ac6b-09665955000c"
      },
      "execution_count": null,
      "outputs": [
        {
          "output_type": "execute_result",
          "data": {
            "text/plain": [
              "5"
            ]
          },
          "metadata": {},
          "execution_count": 24
        }
      ]
    },
    {
      "cell_type": "code",
      "source": [
        "print(len(str1))"
      ],
      "metadata": {
        "id": "YKhU7Ifurogw",
        "colab": {
          "base_uri": "https://localhost:8080/"
        },
        "outputId": "37f21a06-e2d8-4a33-dbaa-f044730d4f1f"
      },
      "execution_count": null,
      "outputs": [
        {
          "output_type": "stream",
          "name": "stdout",
          "text": [
            "5\n"
          ]
        }
      ]
    },
    {
      "cell_type": "code",
      "source": [
        "s = \"hello\"\n",
        "s.replace(\"h\", \"t\")"
      ],
      "metadata": {
        "colab": {
          "base_uri": "https://localhost:8080/",
          "height": 35
        },
        "id": "0zwuHsXJei2s",
        "outputId": "4847e8eb-c4bd-469d-8788-c617cee98541"
      },
      "execution_count": null,
      "outputs": [
        {
          "output_type": "execute_result",
          "data": {
            "text/plain": [
              "'tello'"
            ],
            "application/vnd.google.colaboratory.intrinsic+json": {
              "type": "string"
            }
          },
          "metadata": {},
          "execution_count": 26
        }
      ]
    },
    {
      "cell_type": "code",
      "source": [
        "print(str1.upper())\n",
        "print(str1.capitalize())\n",
        "print(str1.split('e'))\n",
        "print(str1.replace('e', 'a'))"
      ],
      "metadata": {
        "id": "jzM8pCisQuVG",
        "colab": {
          "base_uri": "https://localhost:8080/"
        },
        "outputId": "402cbe05-cf15-46d9-e3a8-1457d24c8b7a"
      },
      "execution_count": null,
      "outputs": [
        {
          "output_type": "stream",
          "name": "stdout",
          "text": [
            "HELLO\n",
            "Hello\n",
            "['H', 'llo']\n",
            "Hallo\n"
          ]
        }
      ]
    },
    {
      "cell_type": "markdown",
      "source": [
        "### Type casting"
      ],
      "metadata": {
        "id": "xLrvyX3nsNNt"
      }
    },
    {
      "cell_type": "code",
      "source": [
        "x = \"5\"\n",
        "\n",
        "print(x + str(3))"
      ],
      "metadata": {
        "colab": {
          "base_uri": "https://localhost:8080/"
        },
        "id": "uemXusw4fRPG",
        "outputId": "45bf244b-ee5b-45df-9bed-51322301b7b7"
      },
      "execution_count": null,
      "outputs": [
        {
          "output_type": "stream",
          "name": "stdout",
          "text": [
            "53\n"
          ]
        }
      ]
    },
    {
      "cell_type": "code",
      "source": [
        "x = [1,2,3,4,5]\n",
        "s = [\"A\", \"B\", \"C\"]\n",
        "\n",
        "b = [1, \"B\"]\n",
        "\n",
        "print(b)"
      ],
      "metadata": {
        "colab": {
          "base_uri": "https://localhost:8080/"
        },
        "id": "0dJAmHq8gV11",
        "outputId": "be4b52df-ab3d-4973-c60a-4142c781cdf5"
      },
      "execution_count": null,
      "outputs": [
        {
          "output_type": "stream",
          "name": "stdout",
          "text": [
            "[1, 'B']\n"
          ]
        }
      ]
    },
    {
      "cell_type": "code",
      "source": [],
      "metadata": {
        "id": "2Y09uy6jgv-k"
      },
      "execution_count": null,
      "outputs": []
    },
    {
      "cell_type": "code",
      "source": [
        "list(x)"
      ],
      "metadata": {
        "id": "rjw_NUmKg4D4",
        "colab": {
          "base_uri": "https://localhost:8080/"
        },
        "outputId": "bd97ff7f-849c-4603-ef36-00dea275bf08"
      },
      "execution_count": null,
      "outputs": [
        {
          "output_type": "execute_result",
          "data": {
            "text/plain": [
              "[1, 2, 3, 4, 5]"
            ]
          },
          "metadata": {},
          "execution_count": 30
        }
      ]
    },
    {
      "cell_type": "code",
      "source": [
        "x = [1,2,3,4,5,3,2,1]\n",
        "print(type(x))\n",
        "print(x)\n",
        "x = set(x)\n",
        "print(type(x))\n",
        "print(x)"
      ],
      "metadata": {
        "colab": {
          "base_uri": "https://localhost:8080/"
        },
        "id": "gbH6cSxcsN8j",
        "outputId": "e1b7a73e-e7aa-4f4b-c6e4-645393c823ec"
      },
      "execution_count": null,
      "outputs": [
        {
          "output_type": "stream",
          "name": "stdout",
          "text": [
            "<class 'list'>\n",
            "[1, 2, 3, 4, 5, 3, 2, 1]\n",
            "<class 'set'>\n",
            "{1, 2, 3, 4, 5}\n"
          ]
        }
      ]
    },
    {
      "cell_type": "code",
      "source": [
        "x = [1,2,3,4,5,3,2,1]\n",
        "print()"
      ],
      "metadata": {
        "colab": {
          "base_uri": "https://localhost:8080/"
        },
        "id": "B6qEtZ-VhWbD",
        "outputId": "efb03026-47c9-4a5c-b5e8-fea4d49025cc"
      },
      "execution_count": null,
      "outputs": [
        {
          "output_type": "stream",
          "name": "stdout",
          "text": [
            "\n"
          ]
        }
      ]
    },
    {
      "cell_type": "code",
      "source": [
        "str1 = \"Otmane\"\n",
        "print(list(str1))"
      ],
      "metadata": {
        "colab": {
          "base_uri": "https://localhost:8080/"
        },
        "id": "5Jj-tW-Tv_wE",
        "outputId": "8844eb02-9399-4040-a374-906ba88999dc"
      },
      "execution_count": null,
      "outputs": [
        {
          "output_type": "stream",
          "name": "stdout",
          "text": [
            "['O', 't', 'm', 'a', 'n', 'e']\n"
          ]
        }
      ]
    },
    {
      "cell_type": "markdown",
      "source": [
        "## Data Structures"
      ],
      "metadata": {
        "id": "83JsqQycMl3a"
      }
    },
    {
      "cell_type": "markdown",
      "source": [
        "### Lists"
      ],
      "metadata": {
        "id": "_-7lmBHfRv2K"
      }
    },
    {
      "cell_type": "code",
      "source": [
        "mylist = [1,2,3,4,5]\n",
        "print(mylist)"
      ],
      "metadata": {
        "id": "qS028b4pRxte"
      },
      "execution_count": null,
      "outputs": []
    },
    {
      "cell_type": "code",
      "source": [
        "print(type(mylist))"
      ],
      "metadata": {
        "id": "LmFsKU1tSC4b"
      },
      "execution_count": null,
      "outputs": []
    },
    {
      "cell_type": "code",
      "source": [
        "mylist[0]"
      ],
      "metadata": {
        "id": "_nYsYh3hSEOb"
      },
      "execution_count": null,
      "outputs": []
    },
    {
      "cell_type": "code",
      "source": [
        "mylist[2]"
      ],
      "metadata": {
        "id": "HHIulqajSF-7"
      },
      "execution_count": null,
      "outputs": []
    },
    {
      "cell_type": "code",
      "source": [
        "mylist[2] = \"10\""
      ],
      "metadata": {
        "id": "N1wNu2RpSJ4O"
      },
      "execution_count": null,
      "outputs": []
    },
    {
      "cell_type": "code",
      "source": [
        "mylist"
      ],
      "metadata": {
        "id": "Ru1mHQ-3SWhC"
      },
      "execution_count": null,
      "outputs": []
    },
    {
      "cell_type": "code",
      "source": [
        "mylist.append(99)"
      ],
      "metadata": {
        "id": "uIC3qeFXSalZ"
      },
      "execution_count": null,
      "outputs": []
    },
    {
      "cell_type": "code",
      "source": [
        "mylist"
      ],
      "metadata": {
        "id": "IrqQ3v5rSdII"
      },
      "execution_count": null,
      "outputs": []
    },
    {
      "cell_type": "code",
      "source": [
        "mylist.pop()"
      ],
      "metadata": {
        "id": "35ONLRL3SeQL"
      },
      "execution_count": null,
      "outputs": []
    },
    {
      "cell_type": "code",
      "source": [
        "mylist"
      ],
      "metadata": {
        "id": "RcpMDHcGShyc"
      },
      "execution_count": null,
      "outputs": []
    },
    {
      "cell_type": "code",
      "source": [
        "mylist[-1]"
      ],
      "metadata": {
        "id": "a36Bm_DHSHve"
      },
      "execution_count": null,
      "outputs": []
    },
    {
      "cell_type": "markdown",
      "source": [
        "#### Slicing"
      ],
      "metadata": {
        "id": "OD4x7tDuSqa-"
      }
    },
    {
      "cell_type": "code",
      "source": [
        "mylist = [1,2,3,4,5,6,7]\n",
        "mylist"
      ],
      "metadata": {
        "id": "nEPq6vDcjHMN"
      },
      "execution_count": null,
      "outputs": []
    },
    {
      "cell_type": "code",
      "source": [
        "myslice = mylist[:2]\n",
        "print(myslice)"
      ],
      "metadata": {
        "id": "Ptu7zR6TSm5r"
      },
      "execution_count": null,
      "outputs": []
    },
    {
      "cell_type": "code",
      "source": [
        "mylist[2:]"
      ],
      "metadata": {
        "id": "iMfBUBJiSodK"
      },
      "execution_count": null,
      "outputs": []
    },
    {
      "cell_type": "code",
      "source": [
        "mylist[1:3]"
      ],
      "metadata": {
        "id": "S1REM9IcSuxo"
      },
      "execution_count": null,
      "outputs": []
    },
    {
      "cell_type": "code",
      "source": [
        "c = [\"Name\", \"Age\", \"Height\", \"Number\", \"Job\"]\n",
        "x = c[:3]\n",
        "print(x)"
      ],
      "metadata": {
        "id": "IoyDcF7AjzFp"
      },
      "execution_count": null,
      "outputs": []
    },
    {
      "cell_type": "code",
      "source": [
        "mylist[:]"
      ],
      "metadata": {
        "id": "OfU2CydGSwKO"
      },
      "execution_count": null,
      "outputs": []
    },
    {
      "cell_type": "code",
      "source": [
        "l = [7, 3, 0, 9]\n",
        "l[1:3]"
      ],
      "metadata": {
        "id": "T0MuYY_dkqCC"
      },
      "execution_count": null,
      "outputs": []
    },
    {
      "cell_type": "markdown",
      "source": [
        "### Dictionaries"
      ],
      "metadata": {
        "id": "hRKMxvANS29a"
      }
    },
    {
      "cell_type": "code",
      "source": [
        "d = {'name': 'Otmane', 'location': 'Rabat'}\n",
        "print(d)"
      ],
      "metadata": {
        "id": "RFTal5JblVEm"
      },
      "execution_count": null,
      "outputs": []
    },
    {
      "cell_type": "code",
      "source": [
        "print(type(d))"
      ],
      "metadata": {
        "id": "kZXjEyb4lt6K"
      },
      "execution_count": null,
      "outputs": []
    },
    {
      "cell_type": "code",
      "source": [
        "d['name']"
      ],
      "metadata": {
        "id": "RRnukL5slugK"
      },
      "execution_count": null,
      "outputs": []
    },
    {
      "cell_type": "code",
      "source": [
        "d['location']"
      ],
      "metadata": {
        "id": "vfkcsCQ0lv2n"
      },
      "execution_count": null,
      "outputs": []
    },
    {
      "cell_type": "code",
      "source": [
        "d['profession']"
      ],
      "metadata": {
        "id": "SIPqm5pElxMQ"
      },
      "execution_count": null,
      "outputs": []
    },
    {
      "cell_type": "code",
      "source": [],
      "metadata": {
        "id": "u_I1dMdXmd2u"
      },
      "execution_count": null,
      "outputs": []
    },
    {
      "cell_type": "code",
      "source": [
        "d.get('name', 'None')"
      ],
      "metadata": {
        "id": "NalUCJvRlyc8"
      },
      "execution_count": null,
      "outputs": []
    },
    {
      "cell_type": "code",
      "source": [
        "d['profession'] = 'Ai Engineer'"
      ],
      "metadata": {
        "id": "i6yYk9twl1A9"
      },
      "execution_count": null,
      "outputs": []
    },
    {
      "cell_type": "code",
      "source": [
        "print(d)"
      ],
      "metadata": {
        "id": "WbWRGxwEmBRv"
      },
      "execution_count": null,
      "outputs": []
    },
    {
      "cell_type": "markdown",
      "source": [
        "### Tuples"
      ],
      "metadata": {
        "id": "YC_199yGmCS9"
      }
    },
    {
      "cell_type": "code",
      "source": [
        "x = (1,2)\n",
        "print(x)"
      ],
      "metadata": {
        "id": "nGVNMJGepLBL"
      },
      "execution_count": null,
      "outputs": []
    },
    {
      "cell_type": "code",
      "source": [
        "print(type(x))"
      ],
      "metadata": {
        "id": "V3wFtbXGpMQ2"
      },
      "execution_count": null,
      "outputs": []
    },
    {
      "cell_type": "code",
      "source": [
        "x[0]"
      ],
      "metadata": {
        "id": "FM06JgkopP3h"
      },
      "execution_count": null,
      "outputs": []
    },
    {
      "cell_type": "code",
      "source": [
        "x[1]"
      ],
      "metadata": {
        "id": "e9cS2Y3-pTvN"
      },
      "execution_count": null,
      "outputs": []
    },
    {
      "cell_type": "code",
      "source": [
        "a = x[0]\n",
        "b = x[1]\n",
        "print(a)\n",
        "print(b)"
      ],
      "metadata": {
        "id": "_pXIiIwhpUZy"
      },
      "execution_count": null,
      "outputs": []
    },
    {
      "cell_type": "code",
      "source": [
        "d = [{'Fname': 'Velma', 'Lname': \"Nogni\"}, {'Fname': 'Otmane', 'Lname': 'Boughaba'}]\n",
        "print()"
      ],
      "metadata": {
        "id": "VsQw0r13nDEJ"
      },
      "execution_count": null,
      "outputs": []
    },
    {
      "cell_type": "code",
      "source": [
        "a = [4, 7, 9, 3]\n",
        "a[2][\"Fname\"]"
      ],
      "metadata": {
        "id": "UTB3fTpHpSQP"
      },
      "execution_count": null,
      "outputs": []
    },
    {
      "cell_type": "code",
      "source": [
        "d[1]"
      ],
      "metadata": {
        "id": "IanwZW9eoRoi"
      },
      "execution_count": null,
      "outputs": []
    },
    {
      "cell_type": "code",
      "source": [
        "print(a,b)"
      ],
      "metadata": {
        "id": "0WVWK7XIpV0H"
      },
      "execution_count": null,
      "outputs": []
    },
    {
      "cell_type": "code",
      "source": [
        "x[0] = 3"
      ],
      "metadata": {
        "id": "wK1wy-n4pWsz"
      },
      "execution_count": null,
      "outputs": []
    },
    {
      "cell_type": "markdown",
      "source": [
        "### Sets"
      ],
      "metadata": {
        "id": "yA9hZ63OqzQq"
      }
    },
    {
      "cell_type": "code",
      "source": [
        "x = {3, 8}\n",
        "print(x)"
      ],
      "metadata": {
        "id": "CKotCroHqyhQ"
      },
      "execution_count": null,
      "outputs": []
    },
    {
      "cell_type": "code",
      "source": [
        "print(type(x))"
      ],
      "metadata": {
        "id": "M2bc-7QPrdCJ"
      },
      "execution_count": null,
      "outputs": []
    },
    {
      "cell_type": "code",
      "source": [
        "x = {3, 8, 23, 8}\n",
        "print(x)"
      ],
      "metadata": {
        "id": "6P_6rx8OrfRe"
      },
      "execution_count": null,
      "outputs": []
    },
    {
      "cell_type": "code",
      "source": [
        "x.add(55)\n",
        "x.remove(3)"
      ],
      "metadata": {
        "id": "bHxXButRrwjv"
      },
      "execution_count": null,
      "outputs": []
    },
    {
      "cell_type": "code",
      "source": [
        "l = [5, 3, 0]\n",
        "l[1] = 7\n",
        "print(l)"
      ],
      "metadata": {
        "id": "pHcf68qup4qe"
      },
      "execution_count": null,
      "outputs": []
    },
    {
      "cell_type": "code",
      "source": [
        "print(x)"
      ],
      "metadata": {
        "id": "5l74oWKnqVOy"
      },
      "execution_count": null,
      "outputs": []
    },
    {
      "cell_type": "code",
      "source": [
        "print(55 in x)\n",
        "print(3 in x)\n",
        "print(90 in x)"
      ],
      "metadata": {
        "id": "NfcfPgu_r55k"
      },
      "execution_count": null,
      "outputs": []
    },
    {
      "cell_type": "markdown",
      "source": [
        "## Variable naming"
      ],
      "metadata": {
        "id": "tLCGce2dpbLb"
      }
    },
    {
      "cell_type": "code",
      "source": [
        "list = [1,2,3,4]\n",
        "del list"
      ],
      "metadata": {
        "id": "QQ0nW27wqd9h"
      },
      "execution_count": null,
      "outputs": []
    },
    {
      "cell_type": "code",
      "source": [
        "s = \"Hello\"\n",
        "print(list(s))"
      ],
      "metadata": {
        "id": "xls31-PWqxQx"
      },
      "execution_count": null,
      "outputs": []
    },
    {
      "cell_type": "code",
      "source": [
        "123 = \"Hello\"\n",
        "--x = 5\n",
        "$*x = 1\n",
        "class = 4\n",
        "list = 5"
      ],
      "metadata": {
        "id": "OzFmNxJKpdTD"
      },
      "execution_count": null,
      "outputs": []
    },
    {
      "cell_type": "markdown",
      "source": [
        "## Loops"
      ],
      "metadata": {
        "id": "DcR8uS9kw7VO"
      }
    },
    {
      "cell_type": "code",
      "source": [
        "mylist = [2,4,6,8,10]\n",
        "\n",
        "for index, item in enumerate(mylist):\n",
        "    print(f\"item No.{index+1} is: {item}\")\n",
        "\n"
      ],
      "metadata": {
        "id": "VVA8YUsExAbX"
      },
      "execution_count": null,
      "outputs": []
    },
    {
      "cell_type": "code",
      "source": [
        "print(\"Item No.2 is: 2\")"
      ],
      "metadata": {
        "id": "xIYnw6gQsAU6"
      },
      "execution_count": null,
      "outputs": []
    },
    {
      "cell_type": "code",
      "source": [
        "shopping_list = [\"sugar\", \"eggs\", \"butter\"]\n",
        "for i, s in enumerate(shopping_list):\n",
        "    print(f\"{i}:  {s}\")"
      ],
      "metadata": {
        "id": "sx0jvstbGZ2J"
      },
      "execution_count": null,
      "outputs": []
    },
    {
      "cell_type": "code",
      "source": [
        "# exercise\n",
        "nums = [0, 1, 2, 3, 4]\n",
        "squares = []\n",
        "for x in nums:\n",
        "    squares.append(x ** 2)\n",
        "print(squares)"
      ],
      "metadata": {
        "id": "KmxL4Cw3Gume"
      },
      "execution_count": null,
      "outputs": []
    },
    {
      "cell_type": "code",
      "source": [
        "# One line: List comprehension\n",
        "squares = [x**2 for x in nums]"
      ],
      "metadata": {
        "id": "G88jOiUSHL_h"
      },
      "execution_count": null,
      "outputs": []
    },
    {
      "cell_type": "code",
      "source": [
        "# infitine, must change i value (exercise)\n",
        "i = 0\n",
        "while i<5:\n",
        "    print(\"Hello\")"
      ],
      "metadata": {
        "id": "RO4DcsobIWdt"
      },
      "execution_count": null,
      "outputs": []
    },
    {
      "cell_type": "markdown",
      "source": [
        "## Conditions"
      ],
      "metadata": {
        "id": "DSfnztT-InCI"
      }
    },
    {
      "cell_type": "code",
      "source": [
        "mylist = [21,67,103,56,403]\n",
        "\n",
        "for n in mylist:\n",
        "    if n > 100:\n",
        "        print(\"Number is too big!\")\n",
        "    else:\n",
        "        print(n)"
      ],
      "metadata": {
        "id": "6RqE6v7pI9Tf"
      },
      "execution_count": null,
      "outputs": []
    },
    {
      "cell_type": "markdown",
      "source": [
        "- bigger than: `>`\n",
        "- less than: `<`\n",
        "- equal: `==`\n",
        "- different than: `!=`"
      ],
      "metadata": {
        "id": "YKBhbdRl2PPw"
      }
    },
    {
      "cell_type": "markdown",
      "source": [
        "## Functions"
      ],
      "metadata": {
        "id": "GgfmAsKjJbYo"
      }
    },
    {
      "cell_type": "code",
      "source": [],
      "metadata": {
        "id": "KTFMFsOgtX1A"
      },
      "execution_count": null,
      "outputs": []
    },
    {
      "cell_type": "code",
      "source": [
        "def add(a, b):\n",
        "    return a + b\n",
        "\n",
        "def multiplication(a , b):\n",
        "    return a * b\n",
        "\n",
        "sum = add(25, 10)\n",
        "mltp = multiplication(2, 3)\n",
        "print(mltp)"
      ],
      "metadata": {
        "id": "aBKlvo_DJchx"
      },
      "execution_count": null,
      "outputs": []
    },
    {
      "cell_type": "code",
      "source": [
        "def convert_usd_mad(usd):\n",
        "    mad = usd * 10\n",
        "    return mad\n",
        "\n",
        "USD = 20\n",
        "\n",
        "MAD = convert_usd_mad(USD)\n",
        "print(f\"{USD} US Dollars are equivalent to: {convert_usd_mad(USD)} Moroccan Dirhams\")"
      ],
      "metadata": {
        "id": "xm1_fIyEt9Cz"
      },
      "execution_count": null,
      "outputs": []
    },
    {
      "cell_type": "code",
      "source": [
        "# exercise: create multiply function"
      ],
      "metadata": {
        "id": "rkcOJSY_LXOz"
      },
      "execution_count": null,
      "outputs": []
    },
    {
      "cell_type": "markdown",
      "source": [
        "## Classes"
      ],
      "metadata": {
        "id": "Nn8PVncHLcv1"
      }
    },
    {
      "cell_type": "code",
      "source": [
        "class Info:\n",
        "    def __init__(self, name, location):\n",
        "        self.name = name\n",
        "        self.location = location\n",
        "\n",
        "    def greet(self, language):\n",
        "        if language == \"english\":\n",
        "            print(f\"Hello {self.name}!\")\n",
        "        if language == \"french\":\n",
        "            print(f\"Bonjour {self.name}!\")"
      ],
      "metadata": {
        "id": "mvy55ZoVvIZi"
      },
      "execution_count": null,
      "outputs": []
    },
    {
      "cell_type": "code",
      "source": [
        "info = Info(\"Otmane\", \"Rabat\")\n",
        "info.greet(\"french\")"
      ],
      "metadata": {
        "id": "9LfsOPUJMGhQ"
      },
      "execution_count": null,
      "outputs": []
    },
    {
      "cell_type": "markdown",
      "source": [
        "## Exercises"
      ],
      "metadata": {
        "id": "BuRLo91-zMSf"
      }
    },
    {
      "cell_type": "markdown",
      "source": [
        "### Print your name + location"
      ],
      "metadata": {
        "id": "px7HOYSvzOt8"
      }
    },
    {
      "cell_type": "code",
      "source": [],
      "metadata": {
        "id": "kRby2CGF1hsU"
      },
      "execution_count": null,
      "outputs": []
    },
    {
      "cell_type": "markdown",
      "source": [
        "### Write a function that converts hours into minutes"
      ],
      "metadata": {
        "id": "buDQTFNG1iMy"
      }
    },
    {
      "cell_type": "code",
      "source": [],
      "metadata": {
        "id": "-PWskAm31qPc"
      },
      "execution_count": null,
      "outputs": []
    },
    {
      "cell_type": "markdown",
      "source": [
        "### Write a program that prints only the positive numbers from this list"
      ],
      "metadata": {
        "id": "vxOu_NjO1rLJ"
      }
    },
    {
      "cell_type": "code",
      "source": [
        "l = [3, -4, 12, 23, -9, 10, 22, 80, -34]"
      ],
      "metadata": {
        "id": "WZI7L96R19Ls"
      },
      "execution_count": null,
      "outputs": []
    },
    {
      "cell_type": "code",
      "source": [],
      "metadata": {
        "id": "HZ2NAYSH2GNa"
      },
      "execution_count": null,
      "outputs": []
    },
    {
      "cell_type": "markdown",
      "source": [
        "### Write a program that calculates the sum of the first 100 numbers"
      ],
      "metadata": {
        "id": "eYJ_vRWE4298"
      }
    },
    {
      "cell_type": "code",
      "source": [],
      "metadata": {
        "id": "IEomaxW148uJ"
      },
      "execution_count": null,
      "outputs": []
    },
    {
      "cell_type": "markdown",
      "source": [
        "### Create a program that finds the largest element in a list"
      ],
      "metadata": {
        "id": "hYW5n3Qp49ar"
      }
    },
    {
      "cell_type": "code",
      "source": [
        "l = [3, -4, 12, 23, -9, 10, 22, 80, -34]"
      ],
      "metadata": {
        "id": "LzZXVlsH6iru"
      },
      "execution_count": null,
      "outputs": []
    },
    {
      "cell_type": "markdown",
      "source": [
        "### Print only numbers that are divisible by 5 from a list"
      ],
      "metadata": {
        "id": "LLdJZUsW6kAo"
      }
    },
    {
      "cell_type": "code",
      "source": [
        "l = [5, 24, 25, 81, 105, 45, 10, 37]"
      ],
      "metadata": {
        "id": "dNL2ijQDUzHq"
      },
      "execution_count": null,
      "outputs": []
    },
    {
      "cell_type": "code",
      "source": [],
      "metadata": {
        "id": "z8Ckq9vzU5y9"
      },
      "execution_count": null,
      "outputs": []
    },
    {
      "cell_type": "markdown",
      "source": [
        "### Convert USD to MAD"
      ],
      "metadata": {
        "id": "VzivHkwzDqYZ"
      }
    },
    {
      "cell_type": "markdown",
      "source": [
        "assuming that 1 USD = 10 MAD, Write a function that received USD as input and returns the value in MAD"
      ],
      "metadata": {
        "id": "xbWx_-LPDvWM"
      }
    },
    {
      "cell_type": "code",
      "source": [],
      "metadata": {
        "id": "PwnXN0BeD8Y5"
      },
      "execution_count": null,
      "outputs": []
    }
  ]
}